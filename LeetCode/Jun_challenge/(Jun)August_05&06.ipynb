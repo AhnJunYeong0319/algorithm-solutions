{
  "nbformat": 4,
  "nbformat_minor": 0,
  "metadata": {
    "colab": {
      "name": "(Jun)August_05&06.ipynb",
      "provenance": [],
      "collapsed_sections": [],
      "toc_visible": true
    },
    "kernelspec": {
      "name": "python3",
      "display_name": "Python 3"
    },
    "language_info": {
      "name": "python"
    }
  },
  "cells": [
    {
      "cell_type": "markdown",
      "source": [
        "# August"
      ],
      "metadata": {
        "id": "lhDGV0AtGpp4"
      }
    },
    {
      "cell_type": "markdown",
      "source": [
        "## 5th"
      ],
      "metadata": {
        "id": "aTbFIl_PNbs8"
      }
    },
    {
      "cell_type": "markdown",
      "source": [
        "### (M) 377. Combination Sum IV ★★★"
      ],
      "metadata": {
        "id": "HAFIMdOmFdbd"
      }
    },
    {
      "cell_type": "markdown",
      "source": [
        "Almost Brute-Force - This is a very dull approach since using for loop in each function-running of recursions"
      ],
      "metadata": {
        "id": "I7KCuEpYG49K"
      }
    },
    {
      "cell_type": "markdown",
      "source": [
        "Fucking time limit exceeded - Top down"
      ],
      "metadata": {
        "id": "G3aniILmH7Xc"
      }
    },
    {
      "cell_type": "code",
      "source": [
        "class Solution(object):\n",
        "    def combinationSum4(self, nums, target):\n",
        "        self.ans = 0\n",
        "\n",
        "        def selectOneNum(nums, target):\n",
        "          ## Ending condition ##\n",
        "          if target == 0:\n",
        "            self.ans += 1\n",
        "            return\n",
        "\n",
        "          for idx in range(len(nums)):\n",
        "            if nums[idx] <= target:\n",
        "              selectOneNum(nums, target - nums[idx])\n",
        "\n",
        "        selectOneNum(nums, target)\n",
        "        return self.ans\n",
        "        \n",
        "\n",
        "Solution().combinationSum4([1], 1)"
      ],
      "metadata": {
        "colab": {
          "base_uri": "https://localhost:8080/"
        },
        "id": "RHh_yf19G4Xy",
        "outputId": "5e515e3c-b4a3-409a-a391-90891aa45519"
      },
      "execution_count": null,
      "outputs": [
        {
          "output_type": "execute_result",
          "data": {
            "text/plain": [
              "1"
            ]
          },
          "metadata": {},
          "execution_count": 23
        }
      ]
    },
    {
      "cell_type": "markdown",
      "source": [
        "[Best solution in LeetCode](https://leetcode.com/problems/combination-sum-iv/discuss/85041/7-liner-in-Python-and-follow-up-question) - Bottom up\n",
        "\n",
        "Comment : Surprisingly I already came up with the same idea to this solution but did not make a move. Trust yourself"
      ],
      "metadata": {
        "id": "yj8-IKiLH-oT"
      }
    },
    {
      "cell_type": "code",
      "source": [
        "def combinationSum4(self, nums, target):\n",
        "    nums, combs = sorted(nums), [1] + [0] * (target)\n",
        "    for i in range(target + 1):\n",
        "        for num in nums:\n",
        "            if num  > i: break\n",
        "            combs[i] += combs[i - num]\n",
        "    return combs[target]"
      ],
      "metadata": {
        "id": "Zlr_uEPlIZ7g"
      },
      "execution_count": null,
      "outputs": []
    },
    {
      "cell_type": "markdown",
      "source": [
        "### (M) 443. String Comprehension"
      ],
      "metadata": {
        "id": "phFsictQI0Kv"
      }
    },
    {
      "cell_type": "markdown",
      "source": [
        "98 / 48"
      ],
      "metadata": {
        "id": "QRN01CTgnodx"
      }
    },
    {
      "cell_type": "code",
      "source": [
        "chars = [\"a\",\"b\",\"b\",\"b\",\"b\",\"b\",\"b\",\"b\",\"b\",\"b\",\"b\",\"b\",\"b\"]\n",
        "\n",
        "class Solution(object):\n",
        "    def compress(self, chars):\n",
        "        def func(fast, chars):\n",
        "          \n",
        "          if fast == len(chars) - 1:\n",
        "            return len(chars), chars[fast], 1\n",
        "\n",
        "          cnt = 1\n",
        "          startChar = chars[fast]\n",
        "          while fast < len(chars) - 1:\n",
        "\n",
        "            if chars[fast + 1] != startChar:\n",
        "              return fast + 1, startChar, cnt\n",
        "            fast += 1\n",
        "            cnt += 1\n",
        "\n",
        "          return fast + 1, startChar, cnt\n",
        "        \n",
        "        fast = 0 # idx for counting each character group\n",
        "        slow = 0 # idx for modifying 'chars' \n",
        "\n",
        "        while fast < len(chars):\n",
        "\n",
        "          fast, char, cnt = func(fast, chars) # fast (global) will be refreshed\n",
        "          if cnt == 1:\n",
        "            chars[slow] = char\n",
        "            slow += 1\n",
        "          else:\n",
        "            chars[slow] = char\n",
        "\n",
        "            for _ in str(cnt): # cnt can be 2 or more digits number\n",
        "              slow += 1\n",
        "              chars[slow] = _\n",
        "\n",
        "            slow += 1\n",
        "\n",
        "        return slow\n",
        "\n",
        "Solution().compress(chars)"
      ],
      "metadata": {
        "id": "n4BYD66fI3sW",
        "colab": {
          "base_uri": "https://localhost:8080/"
        },
        "outputId": "edc9dd60-9570-45a3-d74c-9e483fef8f73"
      },
      "execution_count": null,
      "outputs": [
        {
          "output_type": "execute_result",
          "data": {
            "text/plain": [
              "4"
            ]
          },
          "metadata": {},
          "execution_count": 88
        }
      ]
    },
    {
      "cell_type": "markdown",
      "source": [
        "## 6th"
      ],
      "metadata": {
        "id": "jKfzZrzQsXpz"
      }
    },
    {
      "cell_type": "markdown",
      "source": [
        "### (E) 1876. Sub strings of Size Three with Distinct Characters"
      ],
      "metadata": {
        "id": "pflMxlG3w5PD"
      }
    },
    {
      "cell_type": "markdown",
      "source": [
        "85 / 63"
      ],
      "metadata": {
        "id": "UXX_KjJCzgjb"
      }
    },
    {
      "cell_type": "code",
      "source": [
        "s = \"aababcabc\""
      ],
      "metadata": {
        "id": "PScM_0Z1zmWy"
      },
      "execution_count": null,
      "outputs": []
    },
    {
      "cell_type": "code",
      "source": [
        "class Solution(object):\n",
        "    def countGoodSubstrings(self, s):\n",
        "        \"\"\"\n",
        "        :type s: str\n",
        "        :rtype: int\n",
        "        \"\"\"\n",
        "\n",
        "        if len(s) <= 2:\n",
        "          return 0\n",
        "        cnt = 0\n",
        "        for i in range(len(s) - 2):\n",
        "          if (s[i] != s[i + 1]) and (s[i + 1] != s[i + 2]) and (s[i] != s[i + 2]):\n",
        "            cnt += 1\n",
        "        return cnt"
      ],
      "metadata": {
        "id": "CpSEIayruN0a"
      },
      "execution_count": null,
      "outputs": []
    },
    {
      "cell_type": "markdown",
      "source": [
        "### (E) 832. Flipping an Image"
      ],
      "metadata": {
        "id": "KVcavyrcsaFz"
      }
    },
    {
      "cell_type": "markdown",
      "source": [
        "85 / 46<br><br>\n"
      ],
      "metadata": {
        "id": "_g-uIkcXtDCo"
      }
    },
    {
      "cell_type": "code",
      "source": [
        "class Solution(object):\n",
        "    def flipAndInvertImage(self, image):\n",
        "        \"\"\"\n",
        "        :type image: List[List[int]]\n",
        "        :rtype: List[List[int]]\n",
        "        \"\"\"\n",
        "        \n",
        "        return [list(reversed(list(map(lambda x: 1 - x, image[i])))) for i in range(len(image))]"
      ],
      "metadata": {
        "id": "G3Jc-s6OsaKj"
      },
      "execution_count": null,
      "outputs": []
    }
  ]
}