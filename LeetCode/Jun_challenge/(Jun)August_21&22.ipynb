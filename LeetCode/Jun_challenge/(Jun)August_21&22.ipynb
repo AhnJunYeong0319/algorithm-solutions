{
  "nbformat": 4,
  "nbformat_minor": 0,
  "metadata": {
    "colab": {
      "name": "(Jun)August_21&22.ipynb",
      "provenance": [],
      "collapsed_sections": [],
      "toc_visible": true
    },
    "kernelspec": {
      "name": "python3",
      "display_name": "Python 3"
    },
    "language_info": {
      "name": "python"
    }
  },
  "cells": [
    {
      "cell_type": "markdown",
      "source": [
        "# August"
      ],
      "metadata": {
        "id": "lhDGV0AtGpp4"
      }
    },
    {
      "cell_type": "markdown",
      "source": [
        "## 21th"
      ],
      "metadata": {
        "id": "fE9i5W71I_dW"
      }
    },
    {
      "cell_type": "markdown",
      "source": [
        "### (M) 1338. Reduce Array Size to The Half"
      ],
      "metadata": {
        "id": "N5cxGJoSGx7V"
      }
    },
    {
      "cell_type": "markdown",
      "source": [
        "Recursive solution - 54 / 8"
      ],
      "metadata": {
        "id": "8BkO1wdhKIj-"
      }
    },
    {
      "cell_type": "code",
      "source": [
        "arr = [7,7,7,7,7,7]\n",
        "from collections import Counter\n",
        "\n",
        "class Solution(object):\n",
        "    def minSetSize(self, arr):\n",
        "        self.ans = 0\n",
        "        self.length = len(arr)\n",
        "        cnt = Counter(arr)\n",
        "        cnt = list(reversed(sorted([cnt[i] for i in cnt])))  \n",
        "\n",
        "        def minSizeFind(idx, sum):\n",
        "\n",
        "          if sum >= (self.length // 2):\n",
        "            self.ans = idx\n",
        "            return\n",
        "          \n",
        "          minSizeFind(idx + 1, sum + cnt[idx])\n",
        "\n",
        "        minSizeFind(0, 0)\n",
        "        return self.ans\n",
        "        \n",
        "\n",
        "Solution().minSetSize(arr)"
      ],
      "metadata": {
        "colab": {
          "base_uri": "https://localhost:8080/"
        },
        "id": "_gkxTvoSJCt1",
        "outputId": "042c215e-b79b-4966-fe07-1a3d9e6ad650"
      },
      "execution_count": null,
      "outputs": [
        {
          "output_type": "execute_result",
          "data": {
            "text/plain": [
              "1"
            ]
          },
          "metadata": {},
          "execution_count": 62
        }
      ]
    },
    {
      "cell_type": "markdown",
      "source": [
        "Iterative solution - 52 / 83"
      ],
      "metadata": {
        "id": "mers50YiKSt_"
      }
    },
    {
      "cell_type": "code",
      "source": [
        "arr = [3,3,3,3,5,5,5,2,2,7]\n",
        "from collections import Counter\n",
        "\n",
        "class Solution(object):\n",
        "    def minSetSize(self, arr):\n",
        "        length = len(arr)\n",
        "        cnt = Counter(arr)\n",
        "        cnt = list(reversed(sorted([cnt[i] for i in cnt])))  \n",
        "\n",
        "        idx = 0\n",
        "        sum = 0\n",
        "\n",
        "        while True:\n",
        "          sum += cnt[idx]\n",
        "          if sum >= (length // 2):\n",
        "            break\n",
        "          idx += 1\n",
        "        return idx + 1\n",
        "        \n",
        "Solution().minSetSize(arr)"
      ],
      "metadata": {
        "colab": {
          "base_uri": "https://localhost:8080/"
        },
        "id": "RmhE-GawG1b5",
        "outputId": "80db853e-0c72-41e3-e039-e50d40383434"
      },
      "execution_count": null,
      "outputs": [
        {
          "output_type": "stream",
          "name": "stdout",
          "text": [
            "[4, 3, 2, 1]\n"
          ]
        },
        {
          "output_type": "execute_result",
          "data": {
            "text/plain": [
              "2"
            ]
          },
          "metadata": {},
          "execution_count": 69
        }
      ]
    },
    {
      "cell_type": "markdown",
      "source": [
        "### (E) 387. First Unique Character in a String"
      ],
      "metadata": {
        "id": "mL8JKHMO7s4v"
      }
    },
    {
      "cell_type": "markdown",
      "source": [
        "Straightforward but memory efficency will be not good - 73 / 5"
      ],
      "metadata": {
        "id": "s3DOKsDFAPNL"
      }
    },
    {
      "cell_type": "code",
      "source": [
        "s = \"leetcode\"\n",
        "\n",
        "from collections import defaultdict\n",
        "class Solution(object):\n",
        "    def firstUniqChar(self, s):\n",
        "        mydict = defaultdict(list)\n",
        "        for idx in range(len(s)):\n",
        "          mydict[s[idx]].append(idx)\n",
        "\n",
        "        mydict = list(filter(lambda x : len(x) == 1, mydict.values()))\n",
        "        return min(list(mydict))[0] if mydict != [] else -1 \n",
        "\n",
        "Solution().firstUniqChar(s)"
      ],
      "metadata": {
        "colab": {
          "base_uri": "https://localhost:8080/"
        },
        "id": "rxxqG2D6LYXZ",
        "outputId": "aca67a02-1c66-410f-cb8e-4c266b971435"
      },
      "execution_count": null,
      "outputs": [
        {
          "output_type": "execute_result",
          "data": {
            "text/plain": [
              "0"
            ]
          },
          "metadata": {},
          "execution_count": 35
        }
      ]
    },
    {
      "cell_type": "markdown",
      "source": [
        "Memory super efficient approach  - 28 / 97"
      ],
      "metadata": {
        "id": "Bphbpw4eE5QD"
      }
    },
    {
      "cell_type": "code",
      "source": [
        "s = \"leetcode\"\n",
        "\n",
        "class Solution(object):\n",
        "    def firstUniqChar(self, s):\n",
        "        whitelist = {}\n",
        "        blacklist = []\n",
        "        \n",
        "        for idx in range(len(s)):\n",
        "          if s[idx] in whitelist:\n",
        "            whitelist.pop(s[idx])\n",
        "            blacklist.append(s[idx])\n",
        "          else:\n",
        "            if s[idx] not in blacklist:\n",
        "              whitelist[s[idx]] = idx\n",
        "\n",
        "        return list(whitelist.values())[0] if whitelist != {} else -1\n",
        "      \n",
        "Solution().firstUniqChar(s)"
      ],
      "metadata": {
        "colab": {
          "base_uri": "https://localhost:8080/"
        },
        "id": "mE4fo_sPZoMv",
        "outputId": "b95d4893-a660-4539-e0e2-aa7dfb65b84c"
      },
      "execution_count": null,
      "outputs": [
        {
          "output_type": "execute_result",
          "data": {
            "text/plain": [
              "0"
            ]
          },
          "metadata": {},
          "execution_count": 55
        }
      ]
    },
    {
      "cell_type": "markdown",
      "source": [
        "## 22th"
      ],
      "metadata": {
        "id": "S7Uun67GLYSO"
      }
    },
    {
      "cell_type": "markdown",
      "source": [
        "### (M) 347. Top K Frequent Elements"
      ],
      "metadata": {
        "id": "p4b_dHQYv3K-"
      }
    },
    {
      "cell_type": "markdown",
      "source": [
        "This problem took only 3 minutes for me to solve - 78 / 50"
      ],
      "metadata": {
        "id": "XrXmdZzwy-oO"
      }
    },
    {
      "cell_type": "code",
      "source": [
        "from typing import List\n",
        "nums = [4,4,4,6,6,7]\n",
        "k = 2\n",
        "#nums = [1]\n",
        "#k = 1\n",
        "\n",
        "\n",
        "import heapq\n",
        "from collections import Counter\n",
        "class Solution:\n",
        "    def topKFrequent(self, nums: List[int], k: int) -> List[int]:\n",
        "        cnt = Counter(nums)\n",
        "        heap = [(-cnt[key], key)for key in cnt]\n",
        "        heapq.heapify(heap)\n",
        "\n",
        "        return [heapq.heappop(heap)[1] for i in range(k)]\n",
        "\n",
        "Solution().topKFrequent(nums, k)"
      ],
      "metadata": {
        "colab": {
          "base_uri": "https://localhost:8080/"
        },
        "id": "1fbC_3ZRv3Qv",
        "outputId": "6fa3f0f0-a3ee-4cef-8f07-86afde4044a5"
      },
      "execution_count": null,
      "outputs": [
        {
          "output_type": "execute_result",
          "data": {
            "text/plain": [
              "[4, 6]"
            ]
          },
          "metadata": {},
          "execution_count": 18
        }
      ]
    }
  ]
}