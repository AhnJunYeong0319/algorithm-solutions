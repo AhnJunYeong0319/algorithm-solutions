{
  "nbformat": 4,
  "nbformat_minor": 0,
  "metadata": {
    "colab": {
      "name": "(Jun)August_25&26.ipynb",
      "provenance": [],
      "collapsed_sections": [],
      "toc_visible": true
    },
    "kernelspec": {
      "name": "python3",
      "display_name": "Python 3"
    },
    "language_info": {
      "name": "python"
    }
  },
  "cells": [
    {
      "cell_type": "markdown",
      "source": [
        "# August"
      ],
      "metadata": {
        "id": "lhDGV0AtGpp4"
      }
    },
    {
      "cell_type": "markdown",
      "source": [
        "## 25th"
      ],
      "metadata": {
        "id": "fE9i5W71I_dW"
      }
    },
    {
      "cell_type": "markdown",
      "source": [
        "### (E) 234. Palindrome Linked List ★★"
      ],
      "metadata": {
        "id": "sLWEqcllIimR"
      }
    },
    {
      "cell_type": "markdown",
      "source": [
        "![image.png](data:image/png;base64,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)"
      ],
      "metadata": {
        "id": "ty1Bs8oo6FJm"
      }
    },
    {
      "cell_type": "code",
      "source": [
        "class ListNode:\n",
        "    def __init__(self, val=0, next=None):\n",
        "        self.val = val\n",
        "        self.next = next\n",
        "\n",
        "head = ListNode(1)\n",
        "head.next = ListNode(2)\n",
        "head.next.next = ListNode(2)\n",
        "head.next.next.next = ListNode(1)"
      ],
      "metadata": {
        "id": "hVDWDSGn6C9N"
      },
      "execution_count": null,
      "outputs": []
    },
    {
      "cell_type": "markdown",
      "source": [
        "Follow up: Could you do it in O(n) time and O(1) space?"
      ],
      "metadata": {
        "id": "75rg-D-A6IIx"
      }
    },
    {
      "cell_type": "markdown",
      "source": [
        "Not meeting follow up - 8 / 12"
      ],
      "metadata": {
        "id": "jDNGnCt07WQ5"
      }
    },
    {
      "cell_type": "code",
      "source": [
        "from typing import Optional\n",
        "\n",
        "class Solution:\n",
        "    def isPalindrome(self, head: Optional[ListNode]) -> bool:\n",
        "        cursor, res = head, ''\n",
        "\n",
        "        while cursor != None:\n",
        "          res += str(cursor.val)\n",
        "          cursor = cursor.next\n",
        "          \n",
        "        return res == res[::-1]\n",
        "      \n",
        "Solution().isPalindrome(head)"
      ],
      "metadata": {
        "colab": {
          "base_uri": "https://localhost:8080/"
        },
        "id": "Cz2Sw7gH5wb9",
        "outputId": "511ecf3a-7ae0-446d-f821-1efeeb290f66"
      },
      "execution_count": null,
      "outputs": [
        {
          "output_type": "execute_result",
          "data": {
            "text/plain": [
              "True"
            ]
          },
          "metadata": {},
          "execution_count": 11
        }
      ]
    },
    {
      "cell_type": "markdown",
      "source": [
        "Challenging backtracking - locate ```slow``` and ```fast``` at each the leftmost and the rightmost index and increment and decrement their index by 1 respectively until two meets at the middle."
      ],
      "metadata": {
        "id": "g_nE00Y_90rM"
      }
    },
    {
      "cell_type": "markdown",
      "source": [
        "The solution still does not meet the follow up in terms of space complexity."
      ],
      "metadata": {
        "id": "-0WrII5CRfoB"
      }
    },
    {
      "cell_type": "code",
      "source": [
        "from typing import Optional\n",
        "\n",
        "class Solution:\n",
        "    def isPalindrome(self, head: Optional[ListNode]) -> bool:\n",
        "      self.slow = fast = head\n",
        "      self.flag = True\n",
        "\n",
        "      def backtrack(fast):\n",
        "        if fast == None:\n",
        "          return\n",
        "        backtrack(fast.next)\n",
        "\n",
        "        if self.flag == True:\n",
        "          if self.slow.val == fast.val:\n",
        "            print(f\"slow : {self.slow.val} / fast : {fast.val} <- match well\")\n",
        "            self.slow = self.slow.next\n",
        "          else:\n",
        "            self.flag = False\n",
        "        else:\n",
        "          return\n",
        "\n",
        "      backtrack(fast)\n",
        "      return self.flag\n",
        "\n",
        "Solution().isPalindrome(head)"
      ],
      "metadata": {
        "id": "1fv9Y9YM9SjB",
        "colab": {
          "base_uri": "https://localhost:8080/"
        },
        "outputId": "6118e3bf-89d9-4114-c2fb-00a8849f2a2c"
      },
      "execution_count": null,
      "outputs": [
        {
          "output_type": "stream",
          "name": "stdout",
          "text": [
            "slow : 1 / fast : 1 <- match well\n",
            "slow : 2 / fast : 2 <- match well\n",
            "slow : 2 / fast : 2 <- match well\n",
            "slow : 1 / fast : 1 <- match well\n"
          ]
        },
        {
          "output_type": "execute_result",
          "data": {
            "text/plain": [
              "True"
            ]
          },
          "metadata": {},
          "execution_count": 11
        }
      ]
    },
    {
      "cell_type": "markdown",
      "source": [
        "Awesome solution from [LeetCode discussion](https://leetcode.com/problems/palindrome-linked-list/discuss/64500/11-lines-12-with-restore-O(n)-time-O(1)-space) - checking reversed first half == second half."
      ],
      "metadata": {
        "id": "JjQ3ckPMSTrL"
      }
    },
    {
      "cell_type": "code",
      "source": [
        "class Solution(object):\n",
        "    def isPalindrome(self, head):\n",
        "        rev = None\n",
        "        slow = fast = head\n",
        "        while fast and fast.next:\n",
        "            fast = fast.next.next\n",
        "            rev, rev.next, slow = slow, rev, slow.next\n",
        "        if fast:\n",
        "            slow = slow.next\n",
        "        while rev and rev.val == slow.val:\n",
        "            slow = slow.next\n",
        "            rev = rev.next\n",
        "        return not rev"
      ],
      "metadata": {
        "id": "TsPUJ1aVSTyT"
      },
      "execution_count": null,
      "outputs": []
    },
    {
      "cell_type": "markdown",
      "source": [
        "### (E) 326. Power of Three"
      ],
      "metadata": {
        "id": "gxs48oyFwGND"
      }
    },
    {
      "cell_type": "markdown",
      "source": [
        "Follow up: Could you solve it without loops/recursion?"
      ],
      "metadata": {
        "id": "Nj9NAJIrwTTy"
      }
    },
    {
      "cell_type": "markdown",
      "source": [
        "Not meeting follow up - 75 / 17"
      ],
      "metadata": {
        "id": "CVGXiOdhwfdh"
      }
    },
    {
      "cell_type": "code",
      "source": [
        "class Solution:\n",
        "    def isPowerOfThree(self, n: int) -> bool:\n",
        "        if n < 1:\n",
        "          return False\n",
        "        elif n == 1:\n",
        "          return True\n",
        "        \n",
        "        while n > 1:\n",
        "          n /= 3\n",
        "\n",
        "        return True if n == 1 else False"
      ],
      "metadata": {
        "id": "vrVTJFAiwGSS"
      },
      "execution_count": null,
      "outputs": []
    },
    {
      "cell_type": "code",
      "source": [
        "Solution().isPowerOfThree(9)"
      ],
      "metadata": {
        "colab": {
          "base_uri": "https://localhost:8080/"
        },
        "id": "6iikPUFHzsYN",
        "outputId": "c12d2f71-fade-4597-82b6-b7cdcaadfb38"
      },
      "execution_count": null,
      "outputs": [
        {
          "output_type": "execute_result",
          "data": {
            "text/plain": [
              "True"
            ]
          },
          "metadata": {},
          "execution_count": 19
        }
      ]
    },
    {
      "cell_type": "markdown",
      "source": [
        "Meeting follow up (I think this follow up is somewhat meaningless) - 100 / 100"
      ],
      "metadata": {
        "id": "AnpzMdfowhZv"
      }
    },
    {
      "cell_type": "code",
      "source": [
        "class Solution:\n",
        "    def isPowerOfThree(self, n: int) -> bool:\n",
        "        return n > 0 and 3**19 % n == 0"
      ],
      "metadata": {
        "id": "3M7FZwvXwqAB"
      },
      "execution_count": null,
      "outputs": []
    },
    {
      "cell_type": "markdown",
      "source": [
        "### (M) 75. Sort Colors ★"
      ],
      "metadata": {
        "id": "ewzWFOWXIbe2"
      }
    },
    {
      "cell_type": "markdown",
      "source": [
        "Merge sort using divide nd conquer - this is not that good solution since it's not taking some characteristics of the problem into consideration. - 17 / 15"
      ],
      "metadata": {
        "id": "vZFvTbhfI09L"
      }
    },
    {
      "cell_type": "code",
      "source": [
        "from typing import List\n",
        "nums = [2,0,2,1,1,0, 9]\n",
        "\n",
        "class Solution:\n",
        "    def sortColors(self, nums: List[int]) -> None:\n",
        "        \"\"\"\n",
        "        Do not return anything, modify nums in-place instead.\n",
        "        \"\"\"\n",
        "        def mergeSort(nums):\n",
        "            if len(nums) > 1:\n",
        "\n",
        "                r = len(nums)//2\n",
        "                L = nums[:r]\n",
        "                M = nums[r:]\n",
        "\n",
        "                mergeSort(L)\n",
        "                mergeSort(M)\n",
        "\n",
        "                i = j = k = 0\n",
        "\n",
        "                # Until we reach either end of either L or M, pick larger among\n",
        "                # elements L and M and place them in the correct position at A[p..r]\n",
        "                while i < len(L) and j < len(M):\n",
        "                    if L[i] < M[j]:\n",
        "                        nums[k] = L[i]\n",
        "                        i += 1\n",
        "                    else:\n",
        "                        nums[k] = M[j]\n",
        "                        j += 1\n",
        "                    k += 1\n",
        "\n",
        "                # When we run out of elements in either L or M,\n",
        "                # pick up the remaining elements and put in A[p..r]\n",
        "                while i < len(L):\n",
        "                    nums[k] = L[i]\n",
        "                    i += 1\n",
        "                    k += 1\n",
        "\n",
        "                while j < len(M):\n",
        "                    nums[k] = M[j]\n",
        "                    j += 1\n",
        "                    k += 1\n",
        "        \n",
        "        mergeSort(nums)\n",
        "\n",
        "Solution().sortColors(nums)"
      ],
      "metadata": {
        "colab": {
          "base_uri": "https://localhost:8080/"
        },
        "id": "-tscZXY7MzSk",
        "outputId": "5975168d-e36c-4483-8b7c-bddf8b6c82e8"
      },
      "execution_count": null,
      "outputs": [
        {
          "output_type": "stream",
          "name": "stdout",
          "text": [
            "[0, 0, 1, 1, 2, 2, 9]\n"
          ]
        }
      ]
    },
    {
      "cell_type": "markdown",
      "source": [
        "One-pass in-place solution from [LeetCode discussion](https://leetcode.com/problems/sort-colors/discuss/26481/Python-O(n)-1-pass-in-place-solution-with-explanation)"
      ],
      "metadata": {
        "id": "n38x_1UgNtod"
      }
    },
    {
      "cell_type": "code",
      "source": [
        "def sortColors(self, nums):\n",
        "    red, white, blue = 0, 0, len(nums)-1\n",
        "    \n",
        "    while white <= blue:\n",
        "        if nums[white] == 0:\n",
        "            nums[red], nums[white] = nums[white], nums[red]\n",
        "            white += 1\n",
        "            red += 1\n",
        "        elif nums[white] == 1:\n",
        "            white += 1\n",
        "        else:\n",
        "            nums[white], nums[blue] = nums[blue], nums[white]\n",
        "            blue -= 1"
      ],
      "metadata": {
        "id": "Doi_u7lsNufS"
      },
      "execution_count": null,
      "outputs": []
    }
  ]
}