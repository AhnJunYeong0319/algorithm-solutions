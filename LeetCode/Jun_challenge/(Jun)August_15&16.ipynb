{
  "nbformat": 4,
  "nbformat_minor": 0,
  "metadata": {
    "colab": {
      "name": "(Jun)August_15&16.ipynb",
      "provenance": [],
      "collapsed_sections": [],
      "toc_visible": true
    },
    "kernelspec": {
      "name": "python3",
      "display_name": "Python 3"
    },
    "language_info": {
      "name": "python"
    }
  },
  "cells": [
    {
      "cell_type": "markdown",
      "source": [
        "# August"
      ],
      "metadata": {
        "id": "lhDGV0AtGpp4"
      }
    },
    {
      "cell_type": "markdown",
      "source": [
        "## 15th"
      ],
      "metadata": {
        "id": "fE9i5W71I_dW"
      }
    },
    {
      "cell_type": "markdown",
      "source": [
        "### (M) 11. Container With Most Water ★★"
      ],
      "metadata": {
        "id": "qqHViQlymWpv"
      }
    },
    {
      "cell_type": "markdown",
      "source": [
        "![image.png](data:image/png;base64,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)"
      ],
      "metadata": {
        "id": "auPADe4x8g8C"
      }
    },
    {
      "cell_type": "markdown",
      "source": [
        "I still don't understand why this problem took so much time to solve"
      ],
      "metadata": {
        "id": "6L2EjZhp-ZJ3"
      }
    },
    {
      "cell_type": "markdown",
      "source": [
        "Note that brute-force (O(n)) is too slow.<br>\n",
        "Time complexity with O(n) - 28 / 22"
      ],
      "metadata": {
        "id": "SXnLaeB990oa"
      }
    },
    {
      "cell_type": "code",
      "source": [
        "# If we starts at the 0 and len(height) - 1 and gradually narrow down the range.\n",
        "# Note that if the width decrements by 1 and the height of shorter side also get smaller than before, 'maxSoFar' doesn't changes.\n",
        "\n",
        "\n",
        "height = [1,8,6,2,5,4,8,3,7]\n",
        "\n",
        "class Solution(object):\n",
        "    def maxArea(self, height):\n",
        "        maxSoFar = 0\n",
        "        left = 0\n",
        "        right = len(height) - 1\n",
        "\n",
        "        while left != right:\n",
        "          if height[left] > height[right]:\n",
        "            maxSoFar = max(maxSoFar, (right - left) * height[right])\n",
        "            right -= 1\n",
        "\n",
        "          else:\n",
        "            maxSoFar = max(maxSoFar, (right - left) * height[left])\n",
        "            left += 1\n",
        "        \n",
        "        return maxSoFar\n",
        "\n",
        "Solution().maxArea(height)"
      ],
      "metadata": {
        "id": "C2BX_9yN8j1I"
      },
      "execution_count": null,
      "outputs": []
    },
    {
      "cell_type": "markdown",
      "source": [
        "### (E) 27. Remove Element"
      ],
      "metadata": {
        "id": "7eqI0Y3Nm4xN"
      }
    },
    {
      "cell_type": "markdown",
      "source": [
        "Same as 283. Move Zeroes"
      ],
      "metadata": {
        "id": "WrgDEKy4tzvA"
      }
    },
    {
      "cell_type": "markdown",
      "source": [
        "I didn't use the [lazy-evaluation](https://itholic.github.io/python-lazy-evaluation/) (range -> xrange) here, but it can be useful with higher versions of python."
      ],
      "metadata": {
        "id": "vVF3NsfvuQeK"
      }
    },
    {
      "cell_type": "markdown",
      "source": [
        "Clever approach (I think) - 87 / 13"
      ],
      "metadata": {
        "id": "Jcvk2dpMxh9d"
      }
    },
    {
      "cell_type": "code",
      "source": [
        "nums = []\n",
        "val = 2\n",
        "\n",
        "class Solution(object):\n",
        "    def removeElement(self, nums, val):\n",
        "        target_indices = []\n",
        "        for idx in range(len(nums)):\n",
        "\n",
        "          if nums[idx] == val:\n",
        "            target_indices.append(idx)\n",
        "              \n",
        "          else:\n",
        "            if target_indices != []:\n",
        "              target_idx = target_indices.pop(0)\n",
        "              nums[target_idx], nums[idx] = nums[idx], nums[target_idx]\n",
        "              target_indices.append(idx)\n",
        "\n",
        "        return target_indices[0] if target_indices != [] else len(nums)\n",
        "              \n",
        "Solution().removeElement(nums, val)"
      ],
      "metadata": {
        "colab": {
          "base_uri": "https://localhost:8080/"
        },
        "id": "kwzosE-MwcH-",
        "outputId": "68572bf5-77a1-4705-fc09-39250e8d9843"
      },
      "execution_count": null,
      "outputs": [
        {
          "output_type": "execute_result",
          "data": {
            "text/plain": [
              "0"
            ]
          },
          "metadata": {},
          "execution_count": 129
        }
      ]
    },
    {
      "cell_type": "markdown",
      "source": [
        "### (E) 83. Remove Duplicates from Sroted List"
      ],
      "metadata": {
        "id": "zrlbqRqxmbeV"
      }
    },
    {
      "cell_type": "markdown",
      "source": [
        "![image.png](data:image/png;base64,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)"
      ],
      "metadata": {
        "id": "RVpi1eFVmr5U"
      }
    },
    {
      "cell_type": "code",
      "source": [
        "class ListNode(object):\n",
        "    def __init__(self, val=0, next=None):\n",
        "        self.val = val\n",
        "        self.next = next\n",
        "\n",
        "head = ListNode(1)\n",
        "head.next = ListNode(1)\n",
        "head.next.next = ListNode(2)\n",
        "#head.next.next.next = ListNode(3)\n",
        "#head.next.next.next.next = ListNode(3)"
      ],
      "metadata": {
        "id": "OSYdZTdpmsdx"
      },
      "execution_count": null,
      "outputs": []
    },
    {
      "cell_type": "markdown",
      "source": [
        "Construct a new linked list but using some nodes themselves (not values) in the original linked list - 20 / 87"
      ],
      "metadata": {
        "id": "fu3Got9wmsvt"
      }
    },
    {
      "cell_type": "code",
      "source": [
        "class Solution(object):\n",
        "    def deleteDuplicates(self, head):\n",
        "\n",
        "        if head == None: return None\n",
        "        preNum, cursor = head.val, head\n",
        "        stack = [cursor]\n",
        "        while cursor != None:\n",
        "          if cursor.val != preNum:\n",
        "            stack.append(cursor)\n",
        "            preNum = cursor.val\n",
        "          cursor = cursor.next\n",
        "\n",
        "        newhead = stack[0]\n",
        "        newCursor = newhead\n",
        "        for i in range(1, len(stack)):\n",
        "          newCursor.next = stack[i]\n",
        "          newCursor = newCursor.next\n",
        "        newCursor.next = None # Cut the tail's next node out\n",
        "\n",
        "        return newhead  "
      ],
      "metadata": {
        "id": "D8hpcTAoqM0t"
      },
      "execution_count": null,
      "outputs": []
    },
    {
      "cell_type": "markdown",
      "source": [
        "Only copy and paste values - 43 / 66"
      ],
      "metadata": {
        "id": "PZBr4aTqrJy7"
      }
    },
    {
      "cell_type": "code",
      "source": [
        "class Solution(object):\n",
        "    def deleteDuplicates(self, head):\n",
        "\n",
        "        if head == None: return None\n",
        "        preNum = head.val\n",
        "        cursor = head\n",
        "        stack = [cursor.val]\n",
        "        while cursor != None:\n",
        "          if cursor.val != preNum:\n",
        "\n",
        "            stack.append(cursor.val)\n",
        "            preNum = cursor.val\n",
        "\n",
        "          cursor = cursor.next\n",
        "\n",
        "        newhead = ListNode(stack[0])\n",
        "        newCursor = newhead\n",
        "        for val in stack[1:]:\n",
        "          newCursor.next = ListNode(val)\n",
        "          newCursor = newCursor.next\n",
        "\n",
        "        return newhead.next.val\n",
        "\n",
        "Solution().deleteDuplicates(head)"
      ],
      "metadata": {
        "colab": {
          "base_uri": "https://localhost:8080/"
        },
        "id": "NwpB4miSrN51",
        "outputId": "3050d04f-28eb-4e80-b7ba-dabcc24ab88c"
      },
      "execution_count": null,
      "outputs": [
        {
          "output_type": "execute_result",
          "data": {
            "text/plain": [
              "2"
            ]
          },
          "metadata": {},
          "execution_count": 102
        }
      ]
    },
    {
      "cell_type": "markdown",
      "source": [
        "In-place removing duplicates from LeetCode discussion - 40 / 66"
      ],
      "metadata": {
        "id": "e_dFVknQrOXP"
      }
    },
    {
      "cell_type": "code",
      "source": [
        "class Solution(object):\n",
        "    def deleteDuplicates(self, head):\n",
        "\n",
        "        first, second = head, head.next if head else None\n",
        "        while second:\n",
        "            if first.val == second.val:\n",
        "                second = second.next\n",
        "                first.next = second\n",
        "            else:\n",
        "                first = second\n",
        "                second = second.next\n",
        "                \n",
        "        return head"
      ],
      "metadata": {
        "id": "lz-8aWFarRK1"
      },
      "execution_count": null,
      "outputs": []
    },
    {
      "cell_type": "markdown",
      "source": [
        "## 16th"
      ],
      "metadata": {
        "id": "76yDx_EH1dt8"
      }
    },
    {
      "cell_type": "markdown",
      "source": [
        "I'm afraid of forgetting to submit at the very start of my vacay that's why I did all the things a day earlier xd"
      ],
      "metadata": {
        "id": "SnlYeHfi1f8D"
      }
    },
    {
      "cell_type": "code",
      "source": [
        ""
      ],
      "metadata": {
        "id": "nudfEpyh1smt"
      },
      "execution_count": null,
      "outputs": []
    }
  ]
}