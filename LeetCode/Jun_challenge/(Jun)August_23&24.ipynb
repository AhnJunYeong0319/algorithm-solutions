{
  "nbformat": 4,
  "nbformat_minor": 0,
  "metadata": {
    "colab": {
      "name": "(Jun)August_23&24.ipynb",
      "provenance": [],
      "collapsed_sections": [],
      "toc_visible": true
    },
    "kernelspec": {
      "name": "python3",
      "display_name": "Python 3"
    },
    "language_info": {
      "name": "python"
    }
  },
  "cells": [
    {
      "cell_type": "markdown",
      "source": [
        "# August"
      ],
      "metadata": {
        "id": "lhDGV0AtGpp4"
      }
    },
    {
      "cell_type": "markdown",
      "source": [
        "## 23th"
      ],
      "metadata": {
        "id": "fE9i5W71I_dW"
      }
    },
    {
      "cell_type": "markdown",
      "source": [
        "### (M) 47. Permutations II"
      ],
      "metadata": {
        "id": "6FjQxCgULuSw"
      }
    },
    {
      "cell_type": "markdown",
      "source": [
        "77 / 50"
      ],
      "metadata": {
        "id": "gHovEqbM13bm"
      }
    },
    {
      "cell_type": "code",
      "source": [
        "from typing import List\n",
        "nums = [1,1,2,3, 3]\n",
        "nums = sorted(nums)\n",
        "\n",
        "class Solution:\n",
        "    def permuteUnique(self, nums: List[int]) -> List[List[int]]:\n",
        "      \n",
        "      self.res = []\n",
        "      def backtrack(arr, permut):\n",
        "        if arr == []: self.res.append(permut); return\n",
        "\n",
        "        tmp = None\n",
        "        for idx in range(len(arr)):\n",
        "          if tmp != arr[idx]:\n",
        "            tmp = arr[idx]\n",
        "            backtrack(arr[:idx] + arr[idx + 1:], permut + [arr[idx]])\n",
        "\n",
        "      backtrack(sorted(nums), [])\n",
        "      return self.res\n",
        "\n",
        "Solution().permuteUnique(nums)"
      ],
      "metadata": {
        "id": "21UyI2yHLunj",
        "colab": {
          "base_uri": "https://localhost:8080/"
        },
        "outputId": "80a809f8-6b03-44be-ea13-a1a4880cd981"
      },
      "execution_count": null,
      "outputs": [
        {
          "output_type": "execute_result",
          "data": {
            "text/plain": [
              "30"
            ]
          },
          "metadata": {},
          "execution_count": 12
        }
      ]
    },
    {
      "cell_type": "markdown",
      "source": [
        "Passing a sliced list to the next recursive function call may be inefficient in terms of time complexity."
      ],
      "metadata": {
        "id": "mbt588dT15tt"
      }
    },
    {
      "cell_type": "markdown",
      "source": [
        "Incredible solution from [LeetCode discussion](https://leetcode.com/problems/permutations-ii/discuss/18602/9-line-python-solution-with-1-line-to-handle-duplication-beat-99-of-others-%3A-)) - 74 / 100"
      ],
      "metadata": {
        "id": "2HgAHwPH2LBg"
      }
    },
    {
      "cell_type": "code",
      "source": [
        "class Solution:\n",
        "    def permuteUnique(self, nums):\n",
        "        ans = [[]]\n",
        "        for n in nums:\n",
        "            ans = [l[:i]+[n]+l[i:]\n",
        "                   for l in ans\n",
        "                   for i in range((l+[n]).index(n)+1)]\n",
        "        return ans"
      ],
      "metadata": {
        "id": "iQ6NHd7f15yM"
      },
      "execution_count": null,
      "outputs": []
    },
    {
      "cell_type": "markdown",
      "source": [
        "## 24th"
      ],
      "metadata": {
        "id": "3fpWVA3wjflW"
      }
    },
    {
      "cell_type": "markdown",
      "source": [
        "### (E) 389. Find the Difference"
      ],
      "metadata": {
        "id": "Y7-WLy6weG1B"
      }
    },
    {
      "cell_type": "markdown",
      "source": [
        "30 / 76"
      ],
      "metadata": {
        "id": "fvYuMtXHgIX5"
      }
    },
    {
      "cell_type": "code",
      "source": [
        "from collections import Counter\n",
        "\n",
        "s = ''\n",
        "t = 'a'\n",
        "\n",
        "class Solution:\n",
        "    def findTheDifference(self, s: str, t: str) -> str:\n",
        "        \n",
        "        cnt = Counter(t)\n",
        "        for char in s:\n",
        "          if char in cnt:\n",
        "            cnt[char] -= 1\n",
        "            if cnt[char] == 0:\n",
        "              cnt.pop(char)\n",
        "\n",
        "          else: # if not in cnt\n",
        "            return char\n",
        "\n",
        "        return list(cnt.keys())[0]\n",
        "        \n",
        "Solution().findTheDifference(s, t)"
      ],
      "metadata": {
        "colab": {
          "base_uri": "https://localhost:8080/",
          "height": 35
        },
        "id": "QBcxOzLqeG4-",
        "outputId": "f0e7751a-bcff-4b43-baa4-d08d20ee77b3"
      },
      "execution_count": null,
      "outputs": [
        {
          "output_type": "execute_result",
          "data": {
            "text/plain": [
              "'a'"
            ],
            "application/vnd.google.colaboratory.intrinsic+json": {
              "type": "string"
            }
          },
          "metadata": {},
          "execution_count": 19
        }
      ]
    },
    {
      "cell_type": "markdown",
      "source": [
        "One-liner solution focused on running time -  60 / 40"
      ],
      "metadata": {
        "id": "IuQCrZzegjhW"
      }
    },
    {
      "cell_type": "code",
      "source": [
        "from collections import Counter\n",
        "\n",
        "s = ''\n",
        "t = 'a'\n",
        "\n",
        "class Solution:\n",
        "    def findTheDifference(self, s: str, t: str) -> str:\n",
        "        \n",
        "        return list((Counter(t) - Counter(s)).keys())[0]\n",
        "        \n",
        "Solution().findTheDifference(s, t)"
      ],
      "metadata": {
        "colab": {
          "base_uri": "https://localhost:8080/",
          "height": 35
        },
        "id": "P2qgu26mgf4a",
        "outputId": "d66bf4cd-02fa-4bf3-f578-596656a9c0da"
      },
      "execution_count": null,
      "outputs": [
        {
          "output_type": "execute_result",
          "data": {
            "text/plain": [
              "'a'"
            ],
            "application/vnd.google.colaboratory.intrinsic+json": {
              "type": "string"
            }
          },
          "metadata": {},
          "execution_count": 23
        }
      ]
    },
    {
      "cell_type": "markdown",
      "source": [
        "Awesome solution from [LeetCode discussion](https://leetcode.com/problems/find-the-difference/discuss/86845/1-liners-and-2-liner-in-Python)"
      ],
      "metadata": {
        "id": "ozEndxyKhhuG"
      }
    },
    {
      "cell_type": "code",
      "source": [
        "from functools import reduce\n",
        "\n",
        "class Solution(object):\n",
        "    def findTheDifference(self, s, t):\n",
        "        return chr(reduce(operator.xor, map(ord, s + t)))\n",
        "Solution().findTheDifference(s, t)"
      ],
      "metadata": {
        "id": "DjDfYGYXhUVc"
      },
      "execution_count": null,
      "outputs": []
    },
    {
      "cell_type": "markdown",
      "source": [
        "### (M) 1448. Count Good Nodes in Binary Tree"
      ],
      "metadata": {
        "id": "HzXXulD9jclr"
      }
    },
    {
      "cell_type": "markdown",
      "source": [
        "![image.png](data:image/png;base64,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)"
      ],
      "metadata": {
        "id": "eQLCly3ulyEC"
      }
    },
    {
      "cell_type": "code",
      "source": [
        "class TreeNode:\n",
        "    def __init__(self, val=0, left=None, right=None):\n",
        "        self.val = val\n",
        "        self.left = left\n",
        "        self.right = right"
      ],
      "metadata": {
        "id": "SFYmfK_Yk0MZ"
      },
      "execution_count": null,
      "outputs": []
    },
    {
      "cell_type": "code",
      "source": [
        "root = TreeNode(3)\n",
        "root.left = TreeNode(1)\n",
        "root.right = TreeNode(4)\n",
        "root.left.left = TreeNode(3)\n",
        "root.right.left = TreeNode(1)\n",
        "root.right.right = TreeNode(5)"
      ],
      "metadata": {
        "id": "kv9NBsF_l2G8"
      },
      "execution_count": null,
      "outputs": []
    },
    {
      "cell_type": "code",
      "source": [
        "root = TreeNode(3)\n",
        "root.left = TreeNode(3)\n",
        "root.left.left = TreeNode(4)\n",
        "root.left.right = TreeNode(2)"
      ],
      "metadata": {
        "id": "7O_nxaP3qF0d"
      },
      "execution_count": null,
      "outputs": []
    },
    {
      "cell_type": "markdown",
      "source": [
        "![image.png](data:image/png;base64,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)"
      ],
      "metadata": {
        "id": "vKVnjnLJ23aQ"
      }
    },
    {
      "cell_type": "code",
      "source": [
        "root = TreeNode(2)\n",
        "root.right = TreeNode(4)\n",
        "root.right.left = TreeNode(10)\n",
        "root.right.right = TreeNode(8)\n",
        "root.right.right.left = TreeNode(4)\n",
        "\n",
        "# answer : 4"
      ],
      "metadata": {
        "id": "9XMPuivI23fx"
      },
      "execution_count": null,
      "outputs": []
    },
    {
      "cell_type": "markdown",
      "source": [
        "Recursive approach - 30 / 50"
      ],
      "metadata": {
        "id": "p9axidswlz6s"
      }
    },
    {
      "cell_type": "code",
      "source": [
        "class Solution:\n",
        "    def goodNodes(self, root: TreeNode) -> int:\n",
        "\n",
        "      self.score = 0\n",
        "      def PreorderTraverse(Node, threshold):\n",
        "\n",
        "        if Node.val >= threshold:\n",
        "          self.score += 1\n",
        "\n",
        "        if Node.left != None:\n",
        "          PreorderTraverse(Node.left, max(Node.val, threshold))\n",
        "        if Node.right != None:\n",
        "          PreorderTraverse(Node.right, max(Node.val, threshold))\n",
        "        return\n",
        "\n",
        "      PreorderTraverse(root, root.val)\n",
        "      return self.score\n",
        "\n",
        "Solution().goodNodes(root)"
      ],
      "metadata": {
        "colab": {
          "base_uri": "https://localhost:8080/"
        },
        "id": "jMhYWUKnmBZG",
        "outputId": "a0d71457-d7fe-4068-e2fc-72f3564c1e8d"
      },
      "execution_count": null,
      "outputs": [
        {
          "output_type": "execute_result",
          "data": {
            "text/plain": [
              "4"
            ]
          },
          "metadata": {},
          "execution_count": 58
        }
      ]
    },
    {
      "cell_type": "markdown",
      "source": [
        "Iterative approach (Why is this slower than recursion solution?) - 25 / 20"
      ],
      "metadata": {
        "id": "avgB9NHlnCop"
      }
    },
    {
      "cell_type": "code",
      "source": [
        "class Solution:\n",
        "    def goodNodes(self, root: TreeNode) -> int:\n",
        "        cnt = 0\n",
        "        stack = [(root, root.val)]\n",
        "        while stack:\n",
        "            cur, current_max = stack.pop()\n",
        "            cnt += cur.val >= current_max\n",
        "            for child in cur.left, cur.right:\n",
        "                if child:\n",
        "                    stack.append((child, max(cur.val, current_max)))\n",
        "        return cnt"
      ],
      "metadata": {
        "id": "VQoOqQornCs2"
      },
      "execution_count": null,
      "outputs": []
    }
  ]
}