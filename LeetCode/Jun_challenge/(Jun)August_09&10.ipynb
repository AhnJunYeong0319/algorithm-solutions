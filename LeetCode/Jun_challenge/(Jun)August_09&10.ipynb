{
  "nbformat": 4,
  "nbformat_minor": 0,
  "metadata": {
    "colab": {
      "name": "(Jun)August_09&10.ipynb",
      "provenance": [],
      "collapsed_sections": [],
      "toc_visible": true
    },
    "kernelspec": {
      "name": "python3",
      "display_name": "Python 3"
    },
    "language_info": {
      "name": "python"
    }
  },
  "cells": [
    {
      "cell_type": "markdown",
      "source": [
        "# August"
      ],
      "metadata": {
        "id": "lhDGV0AtGpp4"
      }
    },
    {
      "cell_type": "markdown",
      "source": [
        "## 9th"
      ],
      "metadata": {
        "id": "lnw-QegS_WX8"
      }
    },
    {
      "cell_type": "markdown",
      "source": [
        "### (E) 202. Happy Number"
      ],
      "metadata": {
        "id": "ojp3-4OBm9y4"
      }
    },
    {
      "cell_type": "markdown",
      "source": [
        "91 / 13"
      ],
      "metadata": {
        "id": "VctTzRHKnozD"
      }
    },
    {
      "cell_type": "code",
      "source": [
        "n = 78\n",
        "\n",
        "class Solution(object):\n",
        "    def isHappy(self, n):\n",
        "        if n == 1: return True\n",
        "        \n",
        "        self.flag = None\n",
        "\n",
        "        def isHappy_(n, preNums):\n",
        "          print(n)\n",
        "          newN = sum([(int(digit))**2 for digit in str(n)])\n",
        "\n",
        "          if newN in preNums: # prevent an infinite loop\n",
        "            self.flag = False\n",
        "            return\n",
        "\n",
        "          if newN == 1: # ending condition\n",
        "            self.flag = True\n",
        "            return\n",
        "\n",
        "          isHappy_(newN, preNums + [newN])\n",
        "\n",
        "        isHappy_(n, [n])\n",
        "        return self.flag\n",
        "        \n",
        "\n",
        "Solution().isHappy(n)"
      ],
      "metadata": {
        "colab": {
          "base_uri": "https://localhost:8080/"
        },
        "id": "7HdHqY8VoU3a",
        "outputId": "4df1f4da-f30e-402e-b83d-8380208a3bf8"
      },
      "execution_count": null,
      "outputs": [
        {
          "output_type": "stream",
          "name": "stdout",
          "text": [
            "78\n",
            "113\n",
            "11\n",
            "2\n",
            "4\n",
            "16\n",
            "37\n",
            "58\n",
            "89\n",
            "145\n",
            "42\n",
            "20\n"
          ]
        },
        {
          "output_type": "execute_result",
          "data": {
            "text/plain": [
              "False"
            ]
          },
          "metadata": {},
          "execution_count": 32
        }
      ]
    },
    {
      "cell_type": "markdown",
      "source": [
        "###(E) 367. Valid Perfect Square"
      ],
      "metadata": {
        "id": "4FeFx-nShXx8"
      }
    },
    {
      "cell_type": "markdown",
      "source": [
        "Recursive approach with bad score - 5 / 13"
      ],
      "metadata": {
        "id": "UL2DET0wkX8R"
      }
    },
    {
      "cell_type": "code",
      "source": [
        "num = 3\n",
        "\n",
        "class Solution(object):\n",
        "    def isPerfectSquare(self, num):\n",
        "\n",
        "        self.res = False\n",
        "\n",
        "        def func(pre, factor, target):\n",
        "          pre += factor\n",
        "\n",
        "          if pre == target:\n",
        "            self.res = True\n",
        "            return\n",
        "\n",
        "          if pre > target:\n",
        "            None\n",
        "          else:\n",
        "            func(pre, factor + 2, target)\n",
        "\n",
        "        func(0, 1, num)\n",
        "        return self.res\n",
        "                \n",
        "\n",
        "Solution().isPerfectSquare(num)"
      ],
      "metadata": {
        "colab": {
          "base_uri": "https://localhost:8080/"
        },
        "id": "Hu6djiSEhX1r",
        "outputId": "f689a923-6878-4745-c6ee-b717103ba58d"
      },
      "execution_count": null,
      "outputs": [
        {
          "output_type": "execute_result",
          "data": {
            "text/plain": [
              "False"
            ]
          },
          "metadata": {},
          "execution_count": 22
        }
      ]
    },
    {
      "cell_type": "markdown",
      "source": [
        "Iterative - 20 / 36"
      ],
      "metadata": {
        "id": "tw07RwNikceH"
      }
    },
    {
      "cell_type": "code",
      "source": [
        "num = 10\n",
        "\n",
        "class Solution(object):\n",
        "    def isPerfectSquare(self, num):\n",
        "\n",
        "        threshold = 0\n",
        "        factor = 1\n",
        "        while threshold < num:\n",
        "          threshold += factor\n",
        "          \n",
        "          if threshold == num:\n",
        "            return True\n",
        "\n",
        "          factor += 2\n",
        "\n",
        "        return False\n",
        "                \n",
        "\n",
        "Solution().isPerfectSquare(num)"
      ],
      "metadata": {
        "colab": {
          "base_uri": "https://localhost:8080/"
        },
        "id": "_iXLgjWkkF34",
        "outputId": "9f441f19-ff41-4b33-ce5e-78b9fc9c9264"
      },
      "execution_count": null,
      "outputs": [
        {
          "output_type": "execute_result",
          "data": {
            "text/plain": [
              "False"
            ]
          },
          "metadata": {},
          "execution_count": 13
        }
      ]
    },
    {
      "cell_type": "markdown",
      "source": [
        "**Newton method** - 92 / 36"
      ],
      "metadata": {
        "id": "P_k6Aj-TmQN0"
      }
    },
    {
      "cell_type": "code",
      "source": [
        "num = 8\n",
        "\n",
        "class Solution(object):\n",
        "    def isPerfectSquare(self, x):\n",
        "\n",
        "      r = x\n",
        "      while r*r > x:\n",
        "          r = (r + x/r) / 2\n",
        "      return r*r == x\n",
        "                \n",
        "Solution().isPerfectSquare(num)"
      ],
      "metadata": {
        "colab": {
          "base_uri": "https://localhost:8080/"
        },
        "id": "970BJOalknFD",
        "outputId": "e879a47d-fc7d-434f-a410-23bd6bf8d1d3"
      },
      "execution_count": null,
      "outputs": [
        {
          "output_type": "execute_result",
          "data": {
            "text/plain": [
              "False"
            ]
          },
          "metadata": {},
          "execution_count": 16
        }
      ]
    },
    {
      "cell_type": "markdown",
      "source": [
        "## 10th"
      ],
      "metadata": {
        "id": "W47CzikN_Yps"
      }
    },
    {
      "cell_type": "markdown",
      "source": [
        "### (M) 39. Combination Sum ★"
      ],
      "metadata": {
        "id": "RBor74oPqnvy"
      }
    },
    {
      "cell_type": "markdown",
      "source": [
        "One of my best codes (almost perfectly understood backtracking by myself) - 90 / 70"
      ],
      "metadata": {
        "id": "l5SfF92c9rG-"
      }
    },
    {
      "cell_type": "markdown",
      "source": [
        "REACHING A MILESTONE!!"
      ],
      "metadata": {
        "id": "kyp1WfzX-CxR"
      }
    },
    {
      "cell_type": "code",
      "source": [
        "candidates = [2,3,6,7]\n",
        "target = 7\n",
        "\n",
        "class Solution(object):\n",
        "    def combinationSum(self, candidates, target):\n",
        "        \n",
        "        ans = []\n",
        "        def backtrace(arr, target, combi):\n",
        "          for idx in range(len(arr)):\n",
        "            if arr[idx] > target: continue\n",
        "            if arr[idx] == target: \n",
        "              ans.append(combi + [arr[idx]])\n",
        "              return\n",
        "            target = target - arr[idx]\n",
        "            backtrace(arr[idx:], target, combi + [arr[idx]])\n",
        "            target = target + arr[idx]\n",
        "\n",
        "          return\n",
        "\n",
        "        backtrace(sorted(candidates), target, [])\n",
        "        return ans\n",
        "        \n",
        "Solution().combinationSum(candidates, target)"
      ],
      "metadata": {
        "colab": {
          "base_uri": "https://localhost:8080/"
        },
        "id": "y83xGpZW1pMU",
        "outputId": "4cc2b9fb-78cf-49f4-baec-c70fb72e7be9"
      },
      "execution_count": 28,
      "outputs": [
        {
          "output_type": "execute_result",
          "data": {
            "text/plain": [
              "[[2, 2, 3], [7]]"
            ]
          },
          "metadata": {},
          "execution_count": 28
        }
      ]
    },
    {
      "cell_type": "markdown",
      "source": [
        "※※ Is this also a backtracking? I'm not setting each variable back by defining again the very next line to the recursive function call."
      ],
      "metadata": {
        "id": "BJ4HzeaE-cal"
      }
    },
    {
      "cell_type": "code",
      "source": [
        "candidates = [2,3,6,7]\n",
        "target = 7\n",
        "\n",
        "class Solution(object):\n",
        "    def combinationSum(self, candidates, target):\n",
        "        \n",
        "        ans = []\n",
        "        def backtrace(arr, target, combi):\n",
        "          for idx in range(len(arr)):\n",
        "            if arr[idx] > target: continue\n",
        "            if arr[idx] == target: \n",
        "              ans.append(combi + [arr[idx]])\n",
        "              return\n",
        "\n",
        "            backtrace(arr[idx:], target - arr[idx], combi + [arr[idx]]) ### ?\n",
        "\n",
        "          return\n",
        "\n",
        "        backtrace(sorted(candidates), target, [])\n",
        "        return ans\n",
        "        \n",
        "Solution().combinationSum(candidates, target)"
      ],
      "metadata": {
        "colab": {
          "base_uri": "https://localhost:8080/"
        },
        "id": "ZKnfw-_w565F",
        "outputId": "23656a33-f950-472a-c339-c7a2aded5ca8"
      },
      "execution_count": 29,
      "outputs": [
        {
          "output_type": "execute_result",
          "data": {
            "text/plain": [
              "[[2, 2, 3], [7]]"
            ]
          },
          "metadata": {},
          "execution_count": 29
        }
      ]
    }
  ]
}