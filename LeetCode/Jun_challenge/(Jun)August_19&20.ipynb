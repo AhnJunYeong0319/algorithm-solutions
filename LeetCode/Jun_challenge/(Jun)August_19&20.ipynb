{
  "nbformat": 4,
  "nbformat_minor": 0,
  "metadata": {
    "colab": {
      "name": "(Jun)August_19&20.ipynb",
      "provenance": [],
      "collapsed_sections": [],
      "toc_visible": true
    },
    "kernelspec": {
      "name": "python3",
      "display_name": "Python 3"
    },
    "language_info": {
      "name": "python"
    }
  },
  "cells": [
    {
      "cell_type": "markdown",
      "source": [
        "# August"
      ],
      "metadata": {
        "id": "lhDGV0AtGpp4"
      }
    },
    {
      "cell_type": "markdown",
      "source": [
        "## 19th"
      ],
      "metadata": {
        "id": "fE9i5W71I_dW"
      }
    },
    {
      "cell_type": "markdown",
      "source": [
        "### (M) 17. Letter Combinations of a Phone Number"
      ],
      "metadata": {
        "id": "Xz3hiQbGHHBv"
      }
    },
    {
      "cell_type": "markdown",
      "source": [
        "Backtracking - 95 / 67 "
      ],
      "metadata": {
        "id": "cV3cv2WDOXlU"
      }
    },
    {
      "cell_type": "code",
      "source": [
        "digits = \"25\"\n",
        "\n",
        "class Solution(object):\n",
        "    def letterCombinations(self, digits):\n",
        "        res = []\n",
        "        if digits == \"\": return res\n",
        "        \n",
        "        hash = {'2':['a', 'b', 'c'],\n",
        "          '3' : ['d','e','f'],\n",
        "          '4' : ['g', 'h', 'i'],\n",
        "          '5' : ['j', 'k', 'l'],\n",
        "          '6' : ['m', 'n', 'o'],\n",
        "          '7' : ['p', 'q', 'r', 's'],\n",
        "          '8' : ['t', 'u', 'v'],\n",
        "          '9' : ['w', 'x', 'y', 'z']}\n",
        "\n",
        "        def permutation(digits, permut):\n",
        "          if digits == \"\":\n",
        "            res.append(permut)\n",
        "            return\n",
        "          for char in hash[digits[0]]:\n",
        "            permutation(digits[1:], permut + char)\n",
        "\n",
        "        permutation(digits, \"\")\n",
        "        return res\n",
        "\n",
        "Solution().letterCombinations(digits)"
      ],
      "metadata": {
        "colab": {
          "base_uri": "https://localhost:8080/"
        },
        "id": "FKgfrldgJK13",
        "outputId": "9958fb5a-9aa9-46d3-9c89-2be14866fb3b"
      },
      "execution_count": null,
      "outputs": [
        {
          "output_type": "execute_result",
          "data": {
            "text/plain": [
              "['aj', 'ak', 'al', 'bj', 'bk', 'bl', 'cj', 'ck', 'cl']"
            ]
          },
          "metadata": {},
          "execution_count": 34
        }
      ]
    },
    {
      "cell_type": "markdown",
      "source": [
        "### (E) 804. Unique Morse Code Words"
      ],
      "metadata": {
        "id": "aZOg5XojpFJ7"
      }
    },
    {
      "cell_type": "markdown",
      "source": [
        "Straightforward approach - 79 / 65"
      ],
      "metadata": {
        "id": "TKGK1hDLtE-u"
      }
    },
    {
      "cell_type": "code",
      "source": [
        "#words = [\"gin\",\"zen\",\"gig\",\"msg\"]\n",
        "words = ['a']\n",
        "\n",
        "class Solution(object):\n",
        "    def uniqueMorseRepresentations(self, words):\n",
        "        morse = [\".-\",\"-...\",\"-.-.\",\"-..\",\".\",\"..-.\",\"--.\",\"....\",\"..\",\".---\",\"-.-\",\".-..\",\"--\",\"-.\",\"---\",\".--.\",\"--.-\",\".-.\",\"...\",\"-\",\"..-\",\"...-\",\".--\",\"-..-\",\"-.--\",\"--..\"]\n",
        "        res = []\n",
        "        for word in words:\n",
        "          tmp = \"\"\n",
        "          for char in word:\n",
        "            tmp += morse[(ord(char) - 97)]\n",
        "          res.append(tmp)\n",
        "\n",
        "        return len(set(res))\n",
        "\n",
        "Solution().uniqueMorseRepresentations(words)"
      ],
      "metadata": {
        "colab": {
          "base_uri": "https://localhost:8080/"
        },
        "id": "gt-mXbeuLcsy",
        "outputId": "d88df3f0-6d2e-4651-d3c2-8a93ba8a52a0"
      },
      "execution_count": null,
      "outputs": [
        {
          "output_type": "execute_result",
          "data": {
            "text/plain": [
              "1"
            ]
          },
          "metadata": {},
          "execution_count": 6
        }
      ]
    },
    {
      "cell_type": "markdown",
      "source": [
        "One liner code using map and join - 80 / 98"
      ],
      "metadata": {
        "id": "P_2LfuNmtKRo"
      }
    },
    {
      "cell_type": "code",
      "source": [
        "#words = [\"gin\",\"zen\",\"gig\",\"msg\"]\n",
        "words = ['a']\n",
        "class Solution(object):\n",
        "    def uniqueMorseRepresentations(self, words):\n",
        "      morse = [\".-\",\"-...\",\"-.-.\",\"-..\",\".\",\"..-.\",\"--.\",\"....\",\"..\",\".---\",\"-.-\",\".-..\",\"--\",\"-.\",\"---\",\".--.\",\"--.-\",\".-.\",\"...\",\"-\",\"..-\",\"...-\",\".--\",\"-..-\",\"-.--\",\"--..\"]\n",
        "      return len(set([ ''.join(list(map(lambda x: morse[ord(x) - 97], word))) for word in words]))\n",
        "\n",
        "Solution().uniqueMorseRepresentations(words)"
      ],
      "metadata": {
        "colab": {
          "base_uri": "https://localhost:8080/"
        },
        "id": "aCXIc6qvtL7w",
        "outputId": "c56c07b2-632b-43d9-cfa8-0f2758d3cd17"
      },
      "execution_count": null,
      "outputs": [
        {
          "output_type": "execute_result",
          "data": {
            "text/plain": [
              "1"
            ]
          },
          "metadata": {},
          "execution_count": 10
        }
      ]
    },
    {
      "cell_type": "markdown",
      "source": [
        "### (M) 49. Group Anagrams ★"
      ],
      "metadata": {
        "id": "ZyY3Frg4u5TX"
      }
    },
    {
      "cell_type": "markdown",
      "source": [
        "Expected to be pretty good but the score was not - 5 / 7"
      ],
      "metadata": {
        "id": "s8nps5hnrvE7"
      }
    },
    {
      "cell_type": "code",
      "source": [
        "strs = [\"eat\",\"tea\",\"tan\",\"ate\",\"nat\",\"bat\"]\n",
        "\n",
        "from collections import Counter\n",
        "class Solution(object):\n",
        "    def groupAnagrams(self, strs):\n",
        "        representative = []\n",
        "        ans = []\n",
        "\n",
        "        for string in strs:\n",
        "          flag = 0\n",
        "          cnt = Counter(string)\n",
        "          for rep_idx in range(len(representative)):\n",
        "            if cnt == representative[rep_idx]:\n",
        "              flag = 1\n",
        "              ans[rep_idx].append(string)\n",
        "          if flag == 0:\n",
        "            ans.append([string])\n",
        "            representative.append(cnt)\n",
        "\n",
        "        return ans\n",
        "        \n",
        "Solution().groupAnagrams(strs)"
      ],
      "metadata": {
        "id": "PeoHGT_FrkAU"
      },
      "execution_count": null,
      "outputs": []
    },
    {
      "cell_type": "markdown",
      "source": [
        "Faster with hash table? <br>\n",
        "Time limit exceeded???\n",
        "<br><br>\n",
        "**Analysis** : I tried to make Counter()s as keys such that I can easily compare key to input word (each element of strs) but only to fail since Counter() (or list) is not hashable."
      ],
      "metadata": {
        "id": "TZ1gx4chsivV"
      }
    },
    {
      "cell_type": "code",
      "source": [
        "strs = [\"eat\",\"tea\",\"tan\",\"ate\",\"nat\",\"bat\"]\n",
        "\n",
        "from collections import Counter\n",
        "class Solution(object):\n",
        "    def groupAnagrams(self, strs):\n",
        "        hash = {}\n",
        "        \n",
        "        for string in strs:\n",
        "          flag = 0\n",
        "          cnt = Counter(string)\n",
        "          for key in hash:\n",
        "            if Counter(key) == cnt: ##\n",
        "              flag = 1\n",
        "              hash[key].append(string)\n",
        "            \n",
        "          if flag == 0:\n",
        "            hash[string] = [string]\n",
        "\n",
        "        return list(hash.values())\n",
        "        \n",
        "Solution().groupAnagrams(strs)"
      ],
      "metadata": {
        "colab": {
          "base_uri": "https://localhost:8080/"
        },
        "id": "69SpsXGDv0XK",
        "outputId": "a59283de-69fd-43d2-87ba-a699becaf42c"
      },
      "execution_count": null,
      "outputs": [
        {
          "output_type": "execute_result",
          "data": {
            "text/plain": [
              "[['eat', 'tea', 'ate'], ['tan', 'nat'], ['bat']]"
            ]
          },
          "metadata": {},
          "execution_count": 33
        }
      ]
    },
    {
      "cell_type": "markdown",
      "source": [
        "Tuple is hashable -> the solution using defaultdict from [LeetCode discussion](https://leetcode.com/problems/group-anagrams/discuss/19202/5-line-Python-solution-easy-to-understand-) - 94 / 45"
      ],
      "metadata": {
        "id": "SBLij7edx1X6"
      }
    },
    {
      "cell_type": "code",
      "source": [
        "strs = [\"eat\",\"tea\",\"tan\",\"ate\",\"nat\",\"bat\"]\n",
        "\n",
        "from collections import defaultdict\n",
        "class Solution():\n",
        "    def groupAnagrams(self, strs):\n",
        "        letters_to_words = defaultdict(list)\n",
        "        for word in strs:\n",
        "            letters_to_words[tuple(sorted(word))].append(word)\n",
        "        return list(letters_to_words.values())\n",
        "\n",
        "Solution().groupAnagrams(strs)"
      ],
      "metadata": {
        "colab": {
          "base_uri": "https://localhost:8080/"
        },
        "id": "LkYdKRzUx1cT",
        "outputId": "ab263865-48d4-418d-96bb-58fc87040392"
      },
      "execution_count": null,
      "outputs": [
        {
          "output_type": "execute_result",
          "data": {
            "text/plain": [
              "[['eat', 'tea', 'ate'], ['tan', 'nat'], ['bat']]"
            ]
          },
          "metadata": {},
          "execution_count": 44
        }
      ]
    }
  ]
}