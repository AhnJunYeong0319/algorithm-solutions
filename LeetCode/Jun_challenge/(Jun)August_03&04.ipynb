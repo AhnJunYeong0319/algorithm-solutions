{
  "nbformat": 4,
  "nbformat_minor": 0,
  "metadata": {
    "colab": {
      "name": "(Jun)August_03&04.ipynb",
      "provenance": [],
      "collapsed_sections": [],
      "toc_visible": true
    },
    "kernelspec": {
      "name": "python3",
      "display_name": "Python 3"
    },
    "language_info": {
      "name": "python"
    }
  },
  "cells": [
    {
      "cell_type": "markdown",
      "source": [
        "# August"
      ],
      "metadata": {
        "id": "lhDGV0AtGpp4"
      }
    },
    {
      "cell_type": "markdown",
      "source": [
        "## 3rd"
      ],
      "metadata": {
        "id": "JysnVMhchyjl"
      }
    },
    {
      "cell_type": "markdown",
      "source": [
        "Did nothing since one lil fuck was quarantined in my palace"
      ],
      "metadata": {
        "id": "EgKui8CYWoM3"
      }
    },
    {
      "cell_type": "markdown",
      "source": [
        "## 4th"
      ],
      "metadata": {
        "id": "G9tU_DCZrRlp"
      }
    },
    {
      "cell_type": "markdown",
      "source": [
        "### (M) 378. Kth Smallest Element in a Sorted Matrix ★★"
      ],
      "metadata": {
        "id": "t40P0swJvKF0"
      }
    },
    {
      "cell_type": "markdown",
      "source": [
        "Using heap (This must be a bad approach since I'm not using the advantage of 'already-sorted' list."
      ],
      "metadata": {
        "id": "XVfCed0rwjz3"
      }
    },
    {
      "cell_type": "markdown",
      "source": [
        "17 / 10"
      ],
      "metadata": {
        "id": "2-26Xqj4xbpb"
      }
    },
    {
      "cell_type": "code",
      "source": [
        "from functools import reduce\n",
        "import heapq\n",
        "\n",
        "matrix = [[-5]]\n",
        "k = 1\n",
        "\n",
        "class Solution(object):\n",
        "    def kthSmallest(self, matrix, k):\n",
        "        \n",
        "        heap = reduce(lambda x,y :x+y ,matrix)\n",
        "        heapq.heapify(heap)\n",
        "\n",
        "        kth_min = None\n",
        "        for i in range(k):\n",
        "          kth_min = heapq.heappop(heap)\n",
        "        \n",
        "        return kth_min\n",
        "\n",
        "Solution().kthSmallest(matrix, k)"
      ],
      "metadata": {
        "colab": {
          "base_uri": "https://localhost:8080/"
        },
        "id": "KJ_cbRwfwzOf",
        "outputId": "b29ca88b-7ff9-4ebf-c879-6f885b0b1c97"
      },
      "execution_count": null,
      "outputs": [
        {
          "output_type": "execute_result",
          "data": {
            "text/plain": [
              "-5"
            ]
          },
          "metadata": {},
          "execution_count": 53
        }
      ]
    },
    {
      "cell_type": "markdown",
      "source": [
        "Using binary search"
      ],
      "metadata": {
        "id": "Q6FULg7C5v7p"
      }
    },
    {
      "cell_type": "code",
      "source": [
        ""
      ],
      "metadata": {
        "id": "Mq-Y62ir5wES"
      },
      "execution_count": null,
      "outputs": []
    },
    {
      "cell_type": "markdown",
      "source": [
        "### (M) 729. My Calendar I ★★★"
      ],
      "metadata": {
        "id": "YATlT9jppVpD"
      }
    },
    {
      "cell_type": "markdown",
      "source": [
        "![image.png](data:image/png;base64,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)"
      ],
      "metadata": {
        "id": "cjAebow9wE1s"
      }
    },
    {
      "cell_type": "markdown",
      "source": [
        "Assume that (10,20) (25,30), (50,60) are booked.<br>\n",
        "What if ( 35, 45) is newly added?<br><br>\n",
        "-> 1. Two index numbers should be adjacent.\n",
        "<br>2. 'Start' should be all in even index."
      ],
      "metadata": {
        "id": "l0yyBIk2IYJ6"
      }
    },
    {
      "cell_type": "code",
      "source": [
        "from collections import deque \n",
        "from bisect import bisect_left, bisect_right\n",
        "\n",
        "class MyCalendar(object):\n",
        "\n",
        "    def __init__(self):\n",
        "        self.booked_times = deque()\n",
        "        \n",
        "    def book(self, start, end):\n",
        "        start_index = bisect_left(self.booked_times, start)\n",
        "        end_index = bisect_left(self.booked_times, end)\n",
        "        \n",
        "        if start_index != end_index or start_index % 2:\n",
        "            return False\n",
        "        \n",
        "        self.booked_times.insert(start_index, end - 1)\n",
        "        self.booked_times.insert(start_index, start)\n",
        "        return True\n"
      ],
      "metadata": {
        "id": "EWsVl9HVpVwU"
      },
      "execution_count": 7,
      "outputs": []
    },
    {
      "cell_type": "code",
      "source": [
        "obj = MyCalendar()\n",
        "obj.book(47, 50)\n",
        "obj.book(50, 522)"
      ],
      "metadata": {
        "colab": {
          "base_uri": "https://localhost:8080/"
        },
        "id": "gJ-3CjeZHmj_",
        "outputId": "7478c90c-7f0f-4f24-f212-921834e9a2d2"
      },
      "execution_count": 8,
      "outputs": [
        {
          "output_type": "execute_result",
          "data": {
            "text/plain": [
              "True"
            ]
          },
          "metadata": {},
          "execution_count": 8
        }
      ]
    },
    {
      "cell_type": "markdown",
      "source": [
        "### (E) 242. Valid Anagram"
      ],
      "metadata": {
        "id": "sPApc3n6KP3r"
      }
    },
    {
      "cell_type": "markdown",
      "source": [
        "10 / 54"
      ],
      "metadata": {
        "id": "7zEXyaALMQ1d"
      }
    },
    {
      "cell_type": "code",
      "source": [
        "s = \"anagram\"\n",
        "t = \"nagaram\""
      ],
      "metadata": {
        "id": "hSieofmMKZ-f"
      },
      "execution_count": 26,
      "outputs": []
    },
    {
      "cell_type": "code",
      "source": [
        "from collections import Counter\n",
        "\n",
        "class Solution(object):\n",
        "    def isAnagram(self, s, t):\n",
        "        cnt = Counter(s)\n",
        "        for char in t:\n",
        "          if char in cnt:\n",
        "            cnt[char] -= 1\n",
        "            if cnt[char] == 0:\n",
        "              cnt.pop(char)\n",
        "          else:\n",
        "            return False\n",
        "\n",
        "        if cnt == {}:  \n",
        "          return True\n",
        "        else:\n",
        "          return False\n",
        "\n",
        "Solution().isAnagram(s, t)"
      ],
      "metadata": {
        "colab": {
          "base_uri": "https://localhost:8080/"
        },
        "id": "O1Nv7_o3JrJm",
        "outputId": "1c2fe194-3899-40c6-8036-3fc7586a0162"
      },
      "execution_count": 27,
      "outputs": [
        {
          "output_type": "execute_result",
          "data": {
            "text/plain": [
              "True"
            ]
          },
          "metadata": {},
          "execution_count": 27
        }
      ]
    },
    {
      "cell_type": "markdown",
      "source": [
        "10 / 90"
      ],
      "metadata": {
        "id": "agdYDKEpMV2G"
      }
    },
    {
      "cell_type": "code",
      "source": [
        "from collections import Counter\n",
        "\n",
        "class Solution(object):\n",
        "    def isAnagram(self, s, t):\n",
        "        cnt = Counter(s)\n",
        "\n",
        "        if len(s) != len(t):\n",
        "          return False\n",
        "          \n",
        "        for char in t:\n",
        "          if char in cnt:\n",
        "            cnt[char] -= 1\n",
        "            if cnt[char] == 0:\n",
        "              cnt.pop(char)\n",
        "          else:\n",
        "            return False\n",
        "\n",
        "        return True\n",
        "\n",
        "Solution().isAnagram(s, t)"
      ],
      "metadata": {
        "id": "JYfl8M3GMGrF"
      },
      "execution_count": null,
      "outputs": []
    },
    {
      "cell_type": "markdown",
      "source": [
        "I don't like this one-liner solution - 10 / 78"
      ],
      "metadata": {
        "id": "cwr4ohyxMwZw"
      }
    },
    {
      "cell_type": "code",
      "source": [
        "from collections import Counter\n",
        "\n",
        "class Solution(object):\n",
        "    def isAnagram(self, s, t):\n",
        "\n",
        "        return Counter(s) == Counter(t)"
      ],
      "metadata": {
        "id": "TR_Q-NdGMyJm"
      },
      "execution_count": null,
      "outputs": []
    }
  ]
}