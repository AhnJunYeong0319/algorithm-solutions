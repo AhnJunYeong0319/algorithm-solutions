{
  "nbformat": 4,
  "nbformat_minor": 0,
  "metadata": {
    "colab": {
      "name": "(Jun)August_27&28.ipynb",
      "provenance": [],
      "collapsed_sections": [],
      "toc_visible": true
    },
    "kernelspec": {
      "name": "python3",
      "display_name": "Python 3"
    },
    "language_info": {
      "name": "python"
    }
  },
  "cells": [
    {
      "cell_type": "markdown",
      "source": [
        "# August"
      ],
      "metadata": {
        "id": "lhDGV0AtGpp4"
      }
    },
    {
      "cell_type": "markdown",
      "source": [
        "## 27th"
      ],
      "metadata": {
        "id": "Uz1WCS_yKFwP"
      }
    },
    {
      "cell_type": "markdown",
      "source": [
        "### (E) 383. Ransom Note"
      ],
      "metadata": {
        "id": "umAFWf1pKOE6"
      }
    },
    {
      "cell_type": "markdown",
      "source": [
        "74 / 100"
      ],
      "metadata": {
        "id": "1yu290prMemP"
      }
    },
    {
      "cell_type": "code",
      "source": [
        "ransomNote = \"aa\"\n",
        "magazine = \"aab\"\n",
        "\n",
        "from collections import Counter\n",
        "class Solution:\n",
        "    def canConstruct(self, ransomNote: str, magazine: str) -> bool:\n",
        "        cnt = Counter(magazine)\n",
        "        for char in ransomNote:\n",
        "          if char in cnt:\n",
        "            cnt[char] -= 1\n",
        "            if cnt[char] < 0:\n",
        "              return False\n",
        "          else:\n",
        "            return False\n",
        "        \n",
        "        return True\n",
        "\n",
        "Solution().canConstruct(ransomNote, magazine)"
      ],
      "metadata": {
        "colab": {
          "base_uri": "https://localhost:8080/"
        },
        "id": "9QEG24DyKGpd",
        "outputId": "4c9b8a06-d786-4473-829e-d24cac37f8ee"
      },
      "execution_count": null,
      "outputs": [
        {
          "output_type": "execute_result",
          "data": {
            "text/plain": [
              "True"
            ]
          },
          "metadata": {},
          "execution_count": 2
        }
      ]
    },
    {
      "cell_type": "markdown",
      "source": [
        "### (M) 74. Search a 2D Matrix"
      ],
      "metadata": {
        "id": "_pT3UbCdpxzs"
      }
    },
    {
      "cell_type": "markdown",
      "source": [
        "Binary search using bisect after flattening **only once** - 60 / 90"
      ],
      "metadata": {
        "id": "NDNSNSa8qATi"
      }
    },
    {
      "cell_type": "code",
      "source": [
        "#matrix = [[1,3,5,7],[10,11,16,20],[23,30,34,60]]\n",
        "matrix = [[1]]\n",
        "target = 2\n",
        "from typing import List\n",
        "\n",
        "from bisect import bisect_left\n",
        "class Solution:\n",
        "    def searchMatrix(self, matrix: List[List[int]], target: int) -> bool:\n",
        "      ith, n = bisect_left([ele for mat in matrix for ele in mat], target) + 1, len(matrix[0])\n",
        "      #print(ith)\n",
        "      if ith > n * len(matrix): return False\n",
        "      #print(f\"{(ith - 1)//n}, {ith - ((ith - 1)//n)*n - 1}\")\n",
        "      return True if matrix[(ith - 1)//n][ith - ((ith - 1)//n)*n - 1] == target else False\n",
        "\n",
        "Solution().searchMatrix(matrix, target)"
      ],
      "metadata": {
        "colab": {
          "base_uri": "https://localhost:8080/"
        },
        "id": "cTnmIGwvr7KQ",
        "outputId": "ddb9a045-0c83-4c8d-e396-f59638336215"
      },
      "execution_count": null,
      "outputs": [
        {
          "output_type": "stream",
          "name": "stdout",
          "text": [
            "2\n"
          ]
        },
        {
          "output_type": "execute_result",
          "data": {
            "text/plain": [
              "False"
            ]
          },
          "metadata": {},
          "execution_count": 33
        }
      ]
    },
    {
      "cell_type": "markdown",
      "source": [
        "Binary search without flattening using the fact that the ith element's index is eqaul to [i//n][i - (i//n)*n]"
      ],
      "metadata": {
        "id": "v2IwQcwhqDRs"
      }
    },
    {
      "cell_type": "markdown",
      "source": [
        "**100 / 100** !!!!!!"
      ],
      "metadata": {
        "id": "PkSAgbF8IHdh"
      }
    },
    {
      "cell_type": "code",
      "source": [
        "matrix = [[1]]\n",
        "target = 1\n",
        "from typing import List\n",
        "\n",
        "class Solution:\n",
        "    def searchMatrix(self, matrix: List[List[int]], target: int) -> bool:\n",
        "      def biSearch(arr, target):\n",
        "        n = len(arr[0])\n",
        "        lo, mid, hi = 0, 0, n * len(arr) - 1\n",
        "        while lo <= hi:\n",
        "          mid = (lo + hi) // 2\n",
        "          \n",
        "          if target > arr[mid//n][mid - (mid//n)*n]:\n",
        "            lo = mid + 1\n",
        "          elif target < arr[mid//n][mid - (mid//n)*n]:\n",
        "            hi = mid - 1\n",
        "          else:\n",
        "            return True\n",
        "\n",
        "        return False\n",
        "        \n",
        "      return biSearch(matrix, target)\n",
        "\n",
        "Solution().searchMatrix(matrix, target)"
      ],
      "metadata": {
        "colab": {
          "base_uri": "https://localhost:8080/"
        },
        "id": "oIv2bhbspPyj",
        "outputId": "cb8aa3f0-a5d3-4c51-f194-5527bf3c5183"
      },
      "execution_count": null,
      "outputs": [
        {
          "output_type": "execute_result",
          "data": {
            "text/plain": [
              "True"
            ]
          },
          "metadata": {},
          "execution_count": 138
        }
      ]
    },
    {
      "cell_type": "markdown",
      "source": [
        "## 28th"
      ],
      "metadata": {
        "id": "OFjIMfDprVos"
      }
    },
    {
      "cell_type": "markdown",
      "source": [
        "### (M) 869. Reordered Power of 2 ★★"
      ],
      "metadata": {
        "id": "KDlxEHvzcm1g"
      }
    },
    {
      "cell_type": "markdown",
      "source": [
        "5 / 5"
      ],
      "metadata": {
        "id": "jprW90F6Fx3n"
      }
    },
    {
      "cell_type": "code",
      "source": [
        "num = 1420\n",
        "\n",
        "class Solution:\n",
        "    def reorderedPowerOf2(self, n: int) -> bool:\n",
        "      \n",
        "      self.res = []\n",
        "      def backtrack(arr, permut):\n",
        "        if arr == []: self.res.append(permut); return\n",
        "\n",
        "        tmp = None\n",
        "        for idx in range(len(arr)):\n",
        "          if tmp != arr[idx]:\n",
        "            tmp = arr[idx]\n",
        "            backtrack(arr[:idx] + arr[idx + 1:], permut + [arr[idx]])\n",
        "\n",
        "      n = sorted(str(n))\n",
        "      for idx in range(len(n)):\n",
        "        if n[idx] != '0':\n",
        "          #print(f\"leading head : {n[idx]}\")\n",
        "          backtrack(n[:idx] + n[idx + 1:], [n[idx]])\n",
        "\n",
        "      return any(int(''.join(ele))&((int(''.join(ele))-1))==0 for ele in self.res)\n",
        "\n",
        "Solution().reorderedPowerOf2(num)"
      ],
      "metadata": {
        "colab": {
          "base_uri": "https://localhost:8080/"
        },
        "id": "JE-pwXAHANyt",
        "outputId": "a16f60f1-6fea-4e99-a7d4-8e8357667cc0"
      },
      "execution_count": null,
      "outputs": [
        {
          "output_type": "stream",
          "name": "stdout",
          "text": [
            "leading head : 1\n",
            "leading head : 2\n",
            "leading head : 4\n"
          ]
        },
        {
          "output_type": "execute_result",
          "data": {
            "text/plain": [
              "True"
            ]
          },
          "metadata": {},
          "execution_count": 110
        }
      ]
    },
    {
      "cell_type": "markdown",
      "source": [
        "Bit manipulation solution from [LeetCode discussion](https://leetcode.com/problems/reordered-power-of-2/discuss/149843/C%2B%2BJavaPython-Straight-Forward)."
      ],
      "metadata": {
        "id": "aJq4UaNXrpEz"
      }
    },
    {
      "cell_type": "code",
      "source": [
        "def reorderedPowerOf2(self, N):\n",
        "    c = collections.Counter(str(N))\n",
        "    return any(c == collections.Counter(str(1 << i)) for i in xrange(30))"
      ],
      "metadata": {
        "id": "EMfAW08VrpJE"
      },
      "execution_count": null,
      "outputs": []
    }
  ]
}