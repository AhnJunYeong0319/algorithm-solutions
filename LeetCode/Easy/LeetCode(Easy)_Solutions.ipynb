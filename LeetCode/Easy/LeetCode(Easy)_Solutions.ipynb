{
  "nbformat": 4,
  "nbformat_minor": 0,
  "metadata": {
    "colab": {
      "name": "LeetCode(Easy)_Solutions.ipynb",
      "provenance": [],
      "collapsed_sections": [],
      "toc_visible": true
    },
    "kernelspec": {
      "name": "python3",
      "display_name": "Python 3"
    },
    "language_info": {
      "name": "python"
    }
  },
  "cells": [
    {
      "cell_type": "markdown",
      "source": [
        "[How to push an existing project to github](https://www.digitalocean.com/community/tutorials/how-to-push-an-existing-project-to-github)"
      ],
      "metadata": {
        "id": "Q8qibysmANB-"
      }
    },
    {
      "cell_type": "markdown",
      "source": [
        "#  1.Two Sum (Done / Cheated)\n",
        " \n",
        "\n"
      ],
      "metadata": {
        "id": "95ls6ixTJ8p_"
      }
    },
    {
      "cell_type": "code",
      "source": [
        ""
      ],
      "metadata": {
        "id": "Hps_gzMbbqU6"
      },
      "execution_count": null,
      "outputs": []
    },
    {
      "cell_type": "markdown",
      "source": [
        "Hash Table"
      ],
      "metadata": {
        "id": "VBfqXkXAN6Hs"
      }
    },
    {
      "cell_type": "code",
      "source": [
        "class Solution:\n",
        "    def twoSum(self, nums, target):\n",
        "        hashmap = {}\n",
        "        for i in range(len(nums)):\n",
        "            hashmap[nums[i]] = i\n",
        "        for i in range(len(nums)):\n",
        "            complement = target - nums[i]\n",
        "            if complement in hashmap and hashmap[complement] != i:\n",
        "                return [i, hashmap[complement]] \n",
        "\n",
        "a = Solution()\n",
        "print( a.twoSum( [2,7,11,15] , 9) )"
      ],
      "metadata": {
        "colab": {
          "base_uri": "https://localhost:8080/"
        },
        "id": "EmmqxO_1J8GX",
        "outputId": "baa43268-d83f-48b3-a836-b48c5d74324f"
      },
      "execution_count": null,
      "outputs": [
        {
          "output_type": "stream",
          "name": "stdout",
          "text": [
            "[0, 1]\n"
          ]
        }
      ]
    },
    {
      "cell_type": "markdown",
      "source": [
        "One-pass Hash Table"
      ],
      "metadata": {
        "id": "2nwZgGagN88U"
      }
    },
    {
      "cell_type": "code",
      "source": [
        "class Solution:\n",
        "    def twoSum(self, nums, target):\n",
        "        hashmap = {}\n",
        "        for i in range(len(nums)):\n",
        "            complement = target - nums[i]\n",
        "            if complement in hashmap:\n",
        "                return [i, hashmap[complement]]\n",
        "            hashmap[nums[i]] = i\n",
        "\n",
        "a = Solution()\n",
        "print(a.twoSum([2,7,11,15], 9))"
      ],
      "metadata": {
        "colab": {
          "base_uri": "https://localhost:8080/"
        },
        "id": "13Mx8o71N9DF",
        "outputId": "d0ecd0a9-b08d-4157-a71f-cff59ef5366f"
      },
      "execution_count": null,
      "outputs": [
        {
          "output_type": "stream",
          "name": "stdout",
          "text": [
            "[1, 0]\n"
          ]
        }
      ]
    },
    {
      "cell_type": "code",
      "source": [
        ""
      ],
      "metadata": {
        "id": "EHTFXKDyJ8In"
      },
      "execution_count": null,
      "outputs": []
    },
    {
      "cell_type": "markdown",
      "source": [
        "# 9.Palindrome Number (Done / By myself)"
      ],
      "metadata": {
        "id": "e3oLaO9UJ-_2"
      }
    },
    {
      "cell_type": "code",
      "source": [
        "'sasfdsf'[::-1]"
      ],
      "metadata": {
        "colab": {
          "base_uri": "https://localhost:8080/",
          "height": 35
        },
        "id": "H5fd8lL0TUlT",
        "outputId": "5f839a6a-7517-49f1-cd8f-602f9029f804"
      },
      "execution_count": null,
      "outputs": [
        {
          "output_type": "execute_result",
          "data": {
            "text/plain": [
              "'fsdfsas'"
            ],
            "application/vnd.google.colaboratory.intrinsic+json": {
              "type": "string"
            }
          },
          "metadata": {},
          "execution_count": 26
        }
      ]
    },
    {
      "cell_type": "code",
      "source": [
        "class Solution:\n",
        "    def isPalindrome(self, x):\n",
        "      newX = str(x)\n",
        "      ans = True\n",
        "\n",
        "      for idx in range(len(newX) // 2):\n",
        "          \n",
        "        if newX[idx] != newX[len(newX)-idx-1] :\n",
        "          ans = False\n",
        "\n",
        "        continue\n",
        "\n",
        "      return ans\n",
        "          "
      ],
      "metadata": {
        "id": "6TG6C8U7J8K3"
      },
      "execution_count": null,
      "outputs": []
    },
    {
      "cell_type": "code",
      "source": [
        "Solution().isPalindrome(12334554321)"
      ],
      "metadata": {
        "id": "_wYPkGmmTcss"
      },
      "execution_count": null,
      "outputs": []
    },
    {
      "cell_type": "markdown",
      "source": [
        "using slicing"
      ],
      "metadata": {
        "id": "-Vh8jCDBTaZM"
      }
    },
    {
      "cell_type": "code",
      "source": [
        "class Solution:\n",
        "    def isPalindrome(self, x):\n",
        "      newX = str(x)\n",
        "      ans = True\n",
        "\n",
        "      if newX[:len(newX)//2] != newX[len(newX) - len(newX)//2:len(newX)][::-1]:\n",
        "        ans = False\n",
        "\n",
        "      return ans"
      ],
      "metadata": {
        "id": "3C3PifHeTZ57"
      },
      "execution_count": null,
      "outputs": []
    },
    {
      "cell_type": "code",
      "source": [
        "Solution().isPalindrome(12341554321)"
      ],
      "metadata": {
        "colab": {
          "base_uri": "https://localhost:8080/"
        },
        "id": "jj-E90J7SngF",
        "outputId": "1c2c7476-4108-4e86-b2da-63f6ed533a53"
      },
      "execution_count": null,
      "outputs": [
        {
          "output_type": "execute_result",
          "data": {
            "text/plain": [
              "False"
            ]
          },
          "metadata": {},
          "execution_count": 52
        }
      ]
    },
    {
      "cell_type": "markdown",
      "source": [
        "Faster slicing? (best so far)"
      ],
      "metadata": {
        "id": "LjiRKYIsX60P"
      }
    },
    {
      "cell_type": "code",
      "source": [
        "class Solution:\n",
        "    def isPalindrome(self, x):\n",
        "      newX = str(x)\n",
        "\n",
        "      if newX != newX[::-1]:\n",
        "        return False\n",
        "      else:\n",
        "        return True"
      ],
      "metadata": {
        "id": "OyaPF_3EX66S"
      },
      "execution_count": null,
      "outputs": []
    },
    {
      "cell_type": "code",
      "source": [
        "Solution().isPalindrome(1234554321)"
      ],
      "metadata": {
        "id": "B6AFNCglJ8UA",
        "colab": {
          "base_uri": "https://localhost:8080/"
        },
        "outputId": "e8dbb8b3-605b-498b-9e57-d616f1d8fa42"
      },
      "execution_count": null,
      "outputs": [
        {
          "output_type": "execute_result",
          "data": {
            "text/plain": [
              "True"
            ]
          },
          "metadata": {},
          "execution_count": 9
        }
      ]
    },
    {
      "cell_type": "markdown",
      "source": [
        "# 13.Roman to Integer (Done / by myself)"
      ],
      "metadata": {
        "id": "U-LYJkpAakh0"
      }
    },
    {
      "cell_type": "markdown",
      "source": [
        "using the given string itself<br>\n",
        "Runtime: 78 ms, faster than 35.99% of Python3 online submissions for Roman to Integer.\n",
        "Memory Usage: 13.9 MB, less than 84.07% of Python3 online submissions for Roman to Integer."
      ],
      "metadata": {
        "id": "pDNRxXr7c5wy"
      }
    },
    {
      "cell_type": "code",
      "source": [
        "class Solution:\n",
        "    def romanToInt(self, s) :\n",
        "      hash = {'I' : 1,\n",
        "              'V' : 5,\n",
        "              'X' : 10,\n",
        "              'L' : 50,\n",
        "              'C' : 100,\n",
        "              'D' : 500,\n",
        "              'M' : 1000}\n",
        "      \n",
        "      ans = 0\n",
        "\n",
        "      for idx in range(len(s) - 1): # 마지막 원소 제외\n",
        "        if hash[ s[idx] ]  < hash[s [idx + 1] ] : # if\n",
        "            ans -= hash[ s[idx] ] \n",
        "            print(f'- {hash[ s[idx] ]}') \n",
        "        else : # else\n",
        "            ans += hash[ s[idx] ]\n",
        "            print(f'+ {hash[ s[idx] ]}') \n",
        "\n",
        "      return ans + hash[s[-1]] # 마지막 원소 : +\n",
        "        \n",
        "\n",
        "s = \"LVIII\"\n",
        "\n",
        "print(Solution().romanToInt(s))"
      ],
      "metadata": {
        "id": "2qD_5flaJ8WI",
        "colab": {
          "base_uri": "https://localhost:8080/"
        },
        "outputId": "a6570a82-869d-4026-de59-4bb5da041fc3"
      },
      "execution_count": null,
      "outputs": [
        {
          "output_type": "stream",
          "name": "stdout",
          "text": [
            "+ 50\n",
            "+ 5\n",
            "+ 1\n",
            "+ 1\n",
            "58\n"
          ]
        }
      ]
    },
    {
      "cell_type": "markdown",
      "source": [
        "list comprehension ver.<br>\n",
        "Runtime: 77 ms, faster than 37.65% of Python3 online submissions for Roman to Integer.\n",
        "Memory Usage: 13.8 MB, less than 98.91% of Python3 online submissions for Roman to Integer."
      ],
      "metadata": {
        "id": "GFQit96y6hVB"
      }
    },
    {
      "cell_type": "code",
      "source": [
        "class Solution:\n",
        "    def romanToInt(self, s) :\n",
        "      hash = {'I' : 1,\n",
        "              'V' : 5,\n",
        "              'X' : 10,\n",
        "              'L' : 50,\n",
        "              'C' : 100,\n",
        "              'D' : 500,\n",
        "              'M' : 1000}\n",
        "\n",
        "      return hash[s[-1]] + sum([- hash[ s[idx] ] if hash[ s[idx] ]  < hash[s [idx + 1] ] else + hash[ s[idx] ] for idx in range(len(s) - 1)])\n",
        "        \n",
        "\n",
        "s = \"MCMXCIV\"\n",
        "\n",
        "print(Solution().romanToInt(s))"
      ],
      "metadata": {
        "colab": {
          "base_uri": "https://localhost:8080/"
        },
        "id": "N99yyJ896hZv",
        "outputId": "54b493eb-6833-46dc-9816-289b00529337"
      },
      "execution_count": null,
      "outputs": [
        {
          "output_type": "stream",
          "name": "stdout",
          "text": [
            "1994\n"
          ]
        }
      ]
    },
    {
      "cell_type": "code",
      "source": [
        "hash = {'I' : 1,\n",
        "              'V' : 5,\n",
        "              'X' : 10,\n",
        "              'L' : 50,\n",
        "              'C' : 100,\n",
        "              'D' : 500,\n",
        "              'M' : 1000}\n",
        "\n",
        "s = \"MCMXCIV\"\n",
        "\n"
      ],
      "metadata": {
        "colab": {
          "base_uri": "https://localhost:8080/"
        },
        "id": "Xckrqf9C5aEa",
        "outputId": "c9cbc6aa-79a0-47f8-98b5-5c9886089eb2"
      },
      "execution_count": null,
      "outputs": [
        {
          "output_type": "stream",
          "name": "stdout",
          "text": [
            "1989\n"
          ]
        }
      ]
    },
    {
      "cell_type": "code",
      "source": [
        "class Solution:\n",
        "    def romanToInt(self, s) :\n",
        "      hash = {'I' : 1,\n",
        "              'V' : 5,\n",
        "              'X' : 10,\n",
        "              'L' : 50,\n",
        "              'C' : 100,\n",
        "              'D' : 500,\n",
        "              'M' : 1000}\n",
        "      \n",
        "      ans = 0\n",
        "\n",
        "      for idx in range(len(s) - 1): # 마지막 원소는 뒤 원소가 없어서 제외\n",
        "        if s[idx] in ['V', 'L', 'D', 'M']: # 1, 10, 100, 1000\n",
        "\n",
        "          if hash[ s[idx] ]  < hash[s [idx + 1] ] : # 뒤에가 같거나 더 큰 숫자면\n",
        "            ans -= hash[ s[idx] ] \n",
        "            print(f'- {hash[ s[idx] ]}') \n",
        "          else : # 뒤에가 같거나 더 작은 숫자면\n",
        "            ans += hash[ s[idx] ]\n",
        "            print(f'+ {hash[ s[idx] ]}') \n",
        "        \n",
        "        else : \n",
        "          ans += hash[ s[idx] ]\n",
        "          print(f'+ {hash[ s[idx] ]}') \n",
        "\n",
        "      return ans + hash[s[-1]] # 마지막 원소는 무조건 더해주기\n",
        "        \n",
        "\n",
        "s = \"MCMXCIV\"\n",
        "\n",
        "print(Solution().romanToInt(s))"
      ],
      "metadata": {
        "colab": {
          "base_uri": "https://localhost:8080/"
        },
        "id": "UzRjVfa6b3Bf",
        "outputId": "0636efab-7312-423e-d86f-ec378b42bbc7"
      },
      "execution_count": null,
      "outputs": [
        {
          "output_type": "execute_result",
          "data": {
            "text/plain": [
              "5"
            ]
          },
          "metadata": {},
          "execution_count": 14
        }
      ]
    },
    {
      "cell_type": "markdown",
      "source": [
        ""
      ],
      "metadata": {
        "id": "cYhJf1iQ2UN6"
      }
    },
    {
      "cell_type": "code",
      "source": [
        "char = 'LVIII'\n",
        "char[-1]"
      ],
      "metadata": {
        "colab": {
          "base_uri": "https://localhost:8080/",
          "height": 36
        },
        "id": "GeFMjttK2U19",
        "outputId": "58d5f0f6-6728-420d-847a-82902546a062"
      },
      "execution_count": null,
      "outputs": [
        {
          "output_type": "execute_result",
          "data": {
            "text/plain": [
              "'I'"
            ],
            "application/vnd.google.colaboratory.intrinsic+json": {
              "type": "string"
            }
          },
          "metadata": {},
          "execution_count": 24
        }
      ]
    },
    {
      "cell_type": "code",
      "source": [
        "char = 'LVIII'\n",
        "\n",
        "hash = {'I' : 1,\n",
        "              'V' : 5,\n",
        "              'X' : 10,\n",
        "              'L' : 50,\n",
        "              'C' : 100,\n",
        "              'D' : 500,\n",
        "              'M' : 1000}\n",
        "start = char[0]\n",
        "\n"
      ],
      "metadata": {
        "id": "vh4PleQ5J8YZ"
      },
      "execution_count": null,
      "outputs": []
    },
    {
      "cell_type": "code",
      "source": [
        "list(hash.keys()).index('V')"
      ],
      "metadata": {
        "colab": {
          "base_uri": "https://localhost:8080/"
        },
        "id": "c5H7WqClwErC",
        "outputId": "bb6ff033-1f06-421d-be83-55075b01d3b5"
      },
      "execution_count": null,
      "outputs": [
        {
          "output_type": "execute_result",
          "data": {
            "text/plain": [
              "1"
            ]
          },
          "metadata": {},
          "execution_count": 23
        }
      ]
    },
    {
      "cell_type": "markdown",
      "source": [
        "4 or 9일 때만 법칙 적용"
      ],
      "metadata": {
        "id": "TjgX9VlifuaD"
      }
    },
    {
      "cell_type": "markdown",
      "source": [
        "using index"
      ],
      "metadata": {
        "id": "IgPTkA6Xc4HX"
      }
    },
    {
      "cell_type": "code",
      "source": [
        "for i in len(char):\n",
        "  if char[i] > char[i+1]"
      ],
      "metadata": {
        "id": "2da-X9dFcCln"
      },
      "execution_count": null,
      "outputs": []
    },
    {
      "cell_type": "markdown",
      "source": [
        "# 14.Longest Common Prefix (Done / by myself)"
      ],
      "metadata": {
        "id": "BH-GsO4ade1B"
      }
    },
    {
      "cell_type": "code",
      "source": [
        "class Solution:\n",
        "    def longestCommonPrefix(self, strs):\n",
        "      ans = ''\n",
        "      for interval in range(min( list(map(len, strs)) ) + 1):  \n",
        "        if len( set (list(map(lambda x: x[:interval], strs)) ) ) == 1:\n",
        "          ans = list(map(lambda x: x[:interval], strs))[0]\n",
        "        else :\n",
        "          break\n",
        "\n",
        "      return ans\n",
        "\n",
        "print(Solution().longestCommonPrefix([\"flower\",\"flow\",\"flight\"]))"
      ],
      "metadata": {
        "id": "9hBCyRZ8de7m",
        "colab": {
          "base_uri": "https://localhost:8080/"
        },
        "outputId": "f539867a-c306-49fd-b8a8-b8d67f5d4c66"
      },
      "execution_count": null,
      "outputs": [
        {
          "output_type": "stream",
          "name": "stdout",
          "text": [
            "fl\n"
          ]
        }
      ]
    },
    {
      "cell_type": "code",
      "source": [
        "list(range(len(s)))"
      ],
      "metadata": {
        "colab": {
          "base_uri": "https://localhost:8080/"
        },
        "id": "inHoxfPK1spm",
        "outputId": "8b4525a1-8c7d-4ce3-d91b-1d73e5a76d70"
      },
      "execution_count": null,
      "outputs": [
        {
          "output_type": "execute_result",
          "data": {
            "text/plain": [
              "[0, 1, 2, 3, 4, 5, 6, 7, 8, 9]"
            ]
          },
          "metadata": {},
          "execution_count": 95
        }
      ]
    },
    {
      "cell_type": "markdown",
      "source": [
        "# 20.Valid Parentheses (Done / By myself)"
      ],
      "metadata": {
        "id": "m15_BMUxhAsd"
      }
    },
    {
      "cell_type": "markdown",
      "source": [
        "스택 구현해서 풀기"
      ],
      "metadata": {
        "id": "xmld-ETfrp78"
      }
    },
    {
      "cell_type": "code",
      "source": [
        "class Solution:\n",
        "    def isValid(self, s):\n",
        "\n",
        "        hashmap = {\"(\" : \")\",\n",
        "           \"[\" : \"]\",\n",
        "           \"{\" : \"}\"}\n",
        "\n",
        "        r_hashmap = dict((v, k) for k, v in hashmap.items()) # memory : get worse, speed : normal?\n",
        "\n",
        "        myStack = [ ] # init my stack\n",
        "\n",
        "        try:\n",
        "          for char in s :\n",
        "            if char in hashmap.keys():\n",
        "              myStack.append(char)\n",
        "\n",
        "            else:\n",
        "              if myStack[-1] == r_hashmap[char]:\n",
        "                myStack.pop()\n",
        "                \n",
        "              else:\n",
        "                break\n",
        "\n",
        "        \n",
        "        except IndexError:\n",
        "          return False\n",
        "        else:\n",
        "          return (myStack == [])\n",
        "\n",
        "         "
      ],
      "metadata": {
        "id": "1U024_DihycF"
      },
      "execution_count": null,
      "outputs": []
    },
    {
      "cell_type": "code",
      "source": [
        "s = \"()(()){()[][]}\"\n",
        "\n",
        "print(Solution().isValid(s))"
      ],
      "metadata": {
        "colab": {
          "base_uri": "https://localhost:8080/"
        },
        "id": "ULWsjgEWh0Hk",
        "outputId": "902fe72c-0625-42f2-e00c-ff7d285bb2ef"
      },
      "execution_count": null,
      "outputs": [
        {
          "output_type": "stream",
          "name": "stdout",
          "text": [
            "['(']\n",
            "[]\n",
            "['(']\n",
            "['(', '(']\n",
            "['(']\n",
            "[]\n",
            "['{']\n",
            "['{', '(']\n",
            "['{']\n",
            "['{', '[']\n",
            "['{']\n",
            "['{', '[']\n",
            "['{']\n",
            "[]\n",
            "True\n"
          ]
        }
      ]
    },
    {
      "cell_type": "code",
      "source": [
        ""
      ],
      "metadata": {
        "id": "v6G3sLQRhuCl"
      },
      "execution_count": null,
      "outputs": []
    },
    {
      "cell_type": "markdown",
      "source": [
        "# 21.Merge Two Sorted Lists (Done / Cheated A LOT)"
      ],
      "metadata": {
        "id": "PdDysybir0VF"
      }
    },
    {
      "cell_type": "markdown",
      "source": [
        "https://ybworld.tistory.com/85\n",
        "\n",
        "linked list 구현 <br>\n",
        "https://www.educative.io/edpresso/how-to-create-a-linked-list-in-python"
      ],
      "metadata": {
        "id": "HLCi8zqnhh8C"
      }
    },
    {
      "cell_type": "markdown",
      "source": [
        "[# divde and conquer](https://rottk.tistory.com/entry/21-Merge-Two-Sorted-Lists)"
      ],
      "metadata": {
        "id": "RMZzJcVAosZq"
      }
    },
    {
      "cell_type": "markdown",
      "source": [
        "https://velog.io/@kgh732/Python-%EC%9C%BC%EB%A1%9C-%ED%91%B8%EB%8A%94-Leetcode21.-Merge-Two-Sorted-Lists"
      ],
      "metadata": {
        "id": "hfTd2y0UqZgj"
      }
    },
    {
      "cell_type": "markdown",
      "source": [
        "[The code of the youtube channel 'Neetcode'](https://www.youtube.com/watch?v=XIdigk956u0&ab_channel=NeetCode)"
      ],
      "metadata": {
        "id": "QNigDU9EjIKU"
      }
    },
    {
      "cell_type": "markdown",
      "source": [
        "71 / 34"
      ],
      "metadata": {
        "id": "6YDtjIuIopZ8"
      }
    },
    {
      "cell_type": "code",
      "source": [
        "# class ListNode(object):\n",
        "#     def __init__(self, val=0, next=None):\n",
        "#         self.val = val\n",
        "#         self.next = next\n",
        "class ListNode(object):\n",
        "    def __init__(self, val=0, next=None):\n",
        "        self.val = val\n",
        "        self.next = next\n",
        "\n",
        "class Solution(object):\n",
        "  \n",
        "    def mergeTwoLists(self, list1, list2):\n",
        "        \"\"\"\n",
        "        :type list1: Optional[ListNode]\n",
        "        :type list2: Optional[ListNode]\n",
        "        :rtype: Optional[ListNode]\n",
        "        \"\"\"\n",
        "        \n",
        "        dummy = tail = ListNode() # dummy is for the copy, tail is for the cursor //////// using SAME OBJECT(class)!!!!\n",
        "        \n",
        "        while (list1 != None) and (list2 != None): # when able to compare two elements in each linked list\n",
        "          \n",
        "          if list1.val >= list2.val:\n",
        "\n",
        "            tail.next = list2\n",
        "            list2 = list2.next\n",
        "\n",
        "          else:\n",
        "            tail.next = list1\n",
        "            list1 = list1.next\n",
        "            \n",
        "          tail = tail.next # move forward (toward the very tail)\n",
        "\n",
        "          \n",
        "        if list1 == None:\n",
        "            tail.next = list2\n",
        "\n",
        "        else:\n",
        "            tail.next = list1\n",
        "\n",
        "          \n",
        "          \n",
        "      \n",
        "\n",
        "        return dummy.next\n",
        "          "
      ],
      "metadata": {
        "id": "RqswZ5Uerzz1"
      },
      "execution_count": null,
      "outputs": []
    },
    {
      "cell_type": "code",
      "source": [
        "l1, l2 = [1,2,4], [1, 3, 4]\n",
        "a = Solution().mergeTwoLists(l1, l2)\n",
        "print(a)"
      ],
      "metadata": {
        "id": "G_zdiXCwrz89",
        "colab": {
          "base_uri": "https://localhost:8080/",
          "height": 339
        },
        "outputId": "a4601ba8-7a19-45d9-8548-a72f10a6aa0e"
      },
      "execution_count": null,
      "outputs": [
        {
          "output_type": "error",
          "ename": "AttributeError",
          "evalue": "ignored",
          "traceback": [
            "\u001b[0;31m---------------------------------------------------------------------------\u001b[0m",
            "\u001b[0;31mAttributeError\u001b[0m                            Traceback (most recent call last)",
            "\u001b[0;32m<ipython-input-8-44d8a9ce441a>\u001b[0m in \u001b[0;36m<module>\u001b[0;34m()\u001b[0m\n\u001b[1;32m      1\u001b[0m \u001b[0ml1\u001b[0m\u001b[0;34m,\u001b[0m \u001b[0ml2\u001b[0m \u001b[0;34m=\u001b[0m \u001b[0;34m[\u001b[0m\u001b[0;36m1\u001b[0m\u001b[0;34m,\u001b[0m\u001b[0;36m2\u001b[0m\u001b[0;34m,\u001b[0m\u001b[0;36m4\u001b[0m\u001b[0;34m]\u001b[0m\u001b[0;34m,\u001b[0m \u001b[0;34m[\u001b[0m\u001b[0;36m1\u001b[0m\u001b[0;34m,\u001b[0m \u001b[0;36m3\u001b[0m\u001b[0;34m,\u001b[0m \u001b[0;36m4\u001b[0m\u001b[0;34m]\u001b[0m\u001b[0;34m\u001b[0m\u001b[0;34m\u001b[0m\u001b[0m\n\u001b[0;32m----> 2\u001b[0;31m \u001b[0ma\u001b[0m \u001b[0;34m=\u001b[0m \u001b[0mSolution\u001b[0m\u001b[0;34m(\u001b[0m\u001b[0;34m)\u001b[0m\u001b[0;34m.\u001b[0m\u001b[0mmergeTwoLists\u001b[0m\u001b[0;34m(\u001b[0m\u001b[0ml1\u001b[0m\u001b[0;34m,\u001b[0m \u001b[0ml2\u001b[0m\u001b[0;34m)\u001b[0m\u001b[0;34m\u001b[0m\u001b[0;34m\u001b[0m\u001b[0m\n\u001b[0m\u001b[1;32m      3\u001b[0m \u001b[0mprint\u001b[0m\u001b[0;34m(\u001b[0m\u001b[0ma\u001b[0m\u001b[0;34m)\u001b[0m\u001b[0;34m\u001b[0m\u001b[0;34m\u001b[0m\u001b[0m\n",
            "\u001b[0;32m<ipython-input-7-7439d5704984>\u001b[0m in \u001b[0;36mmergeTwoLists\u001b[0;34m(self, list1, list2)\u001b[0m\n\u001b[1;32m     21\u001b[0m         \u001b[0;32mwhile\u001b[0m \u001b[0;34m(\u001b[0m\u001b[0mlist1\u001b[0m \u001b[0;34m!=\u001b[0m \u001b[0;32mNone\u001b[0m\u001b[0;34m)\u001b[0m \u001b[0;32mand\u001b[0m \u001b[0;34m(\u001b[0m\u001b[0mlist2\u001b[0m \u001b[0;34m!=\u001b[0m \u001b[0;32mNone\u001b[0m\u001b[0;34m)\u001b[0m\u001b[0;34m:\u001b[0m \u001b[0;31m# when able to compare two elements in each linked list\u001b[0m\u001b[0;34m\u001b[0m\u001b[0;34m\u001b[0m\u001b[0m\n\u001b[1;32m     22\u001b[0m \u001b[0;34m\u001b[0m\u001b[0m\n\u001b[0;32m---> 23\u001b[0;31m           \u001b[0;32mif\u001b[0m \u001b[0mlist1\u001b[0m\u001b[0;34m.\u001b[0m\u001b[0mval\u001b[0m \u001b[0;34m>=\u001b[0m \u001b[0mlist2\u001b[0m\u001b[0;34m.\u001b[0m\u001b[0mval\u001b[0m\u001b[0;34m:\u001b[0m\u001b[0;34m\u001b[0m\u001b[0;34m\u001b[0m\u001b[0m\n\u001b[0m\u001b[1;32m     24\u001b[0m \u001b[0;34m\u001b[0m\u001b[0m\n\u001b[1;32m     25\u001b[0m             \u001b[0mtail\u001b[0m\u001b[0;34m.\u001b[0m\u001b[0mnext\u001b[0m \u001b[0;34m=\u001b[0m \u001b[0mlist2\u001b[0m\u001b[0;34m\u001b[0m\u001b[0;34m\u001b[0m\u001b[0m\n",
            "\u001b[0;31mAttributeError\u001b[0m: 'list' object has no attribute 'val'"
          ]
        }
      ]
    },
    {
      "cell_type": "markdown",
      "source": [
        "divide and conquer?"
      ],
      "metadata": {
        "id": "GuLFHJQ0orJz"
      }
    },
    {
      "cell_type": "code",
      "source": [
        "# class ListNode(object):\n",
        "#     def __init__(self, val=0, next=None):\n",
        "#         self.val = val\n",
        "#         self.next = next\n",
        "class ListNode(object):\n",
        "    def __init__(self, val=0, next=None):\n",
        "        self.val = val\n",
        "        self.next = next\n",
        "\n",
        "class Solution(object):\n",
        "  \n",
        "    def mergeTwoLists(self, list1, list2):\n",
        "\n",
        "        if list1 == None:\n",
        "            tail.next = list2\n",
        "\n",
        "        else:\n",
        "            tail.next = list1\n",
        "\n",
        "\n",
        "        dummy = tail = ListNode() # dummy is for the copy, tail is for the cursor //////// using SAME OBJECT(class)!!!!\n",
        "        \n",
        "        if list1.val >= list2.val:\n",
        "          tmp = mergeTwoLists(list1, list2.next)\n",
        "        else:\n",
        "\n",
        "        return dummy\n",
        "          \n",
        "          \n",
        "\n"
      ],
      "metadata": {
        "id": "YNX2OcHporU0"
      },
      "execution_count": null,
      "outputs": []
    },
    {
      "cell_type": "markdown",
      "source": [
        "# 26.Remove Duplicates from Sorted Array"
      ],
      "metadata": {
        "id": "ZfSJvtdysQyv"
      }
    },
    {
      "cell_type": "code",
      "source": [
        "class Solution(object):\n",
        "    def removeDuplicates(self, nums):\n",
        "        \"\"\"\n",
        "        :type nums: List[int]\n",
        "        :rtype: int\n",
        "        \"\"\""
      ],
      "metadata": {
        "id": "UB0_v4NusQ-H"
      },
      "execution_count": null,
      "outputs": []
    },
    {
      "cell_type": "markdown",
      "source": [
        "# 28.Implement strStr() (Done / By myself)"
      ],
      "metadata": {
        "id": "0Xz34tvkiO3F"
      }
    },
    {
      "cell_type": "markdown",
      "source": [
        "Two pointers"
      ],
      "metadata": {
        "id": "6gpAPIgBYQhb"
      }
    },
    {
      "cell_type": "markdown",
      "source": [
        "45 / 87"
      ],
      "metadata": {
        "id": "ORyYmDAWtmQ8"
      }
    },
    {
      "cell_type": "code",
      "source": [
        "class Solution(object):\n",
        "    def strStr(self, haystack, needle):\n",
        "        \"\"\"\n",
        "        :type haystack: str\n",
        "        :type needle: str\n",
        "        :rtype: int\n",
        "        \"\"\"\n",
        "\n",
        "        idx = -1\n",
        "        checker = 0\n",
        "\n",
        "        if needle == '':\n",
        "          return 0\n",
        "        \n",
        "        else:\n",
        "\n",
        "          for idx1 in range(len(haystack)):\n",
        "            for idx2 in range(len(needle)):\n",
        "              \n",
        "              if haystack[idx1] == needle[idx2]:\n",
        "                \n",
        "                if haystack[idx1:idx1 + len(needle)] == needle: # 덩어리가 같으면\n",
        "                  \n",
        "                  checker = 1\n",
        "                  idx = idx1 # 바로 인덱스 저장\n",
        "                  break\n",
        "                \n",
        "                else:\n",
        "                  continue\n",
        "\n",
        "              else:\n",
        "                continue\n",
        "            \n",
        "            if checker == 1:\n",
        "              break\n",
        "            else:\n",
        "              continue\n",
        "          \n",
        "          return idx\n",
        "        "
      ],
      "metadata": {
        "id": "tMwlSOFIqelV"
      },
      "execution_count": null,
      "outputs": []
    },
    {
      "cell_type": "code",
      "source": [
        "S1, S2 = 'adsfadsf', 'sf'\n",
        "\n",
        "print(Solution().strStr(S1, S2) )"
      ],
      "metadata": {
        "colab": {
          "base_uri": "https://localhost:8080/"
        },
        "id": "GU8xOPuDiO-l",
        "outputId": "5a4920e8-1143-43c7-c50a-2a02230836bf"
      },
      "execution_count": null,
      "outputs": [
        {
          "output_type": "stream",
          "name": "stdout",
          "text": [
            "2\n"
          ]
        }
      ]
    },
    {
      "cell_type": "code",
      "source": [
        "'fase'[0:3]"
      ],
      "metadata": {
        "colab": {
          "base_uri": "https://localhost:8080/",
          "height": 35
        },
        "id": "afB3wFEGiPAt",
        "outputId": "5690c4c1-183d-4860-82c8-f85954e53034"
      },
      "execution_count": null,
      "outputs": [
        {
          "output_type": "execute_result",
          "data": {
            "text/plain": [
              "'fas'"
            ],
            "application/vnd.google.colaboratory.intrinsic+json": {
              "type": "string"
            }
          },
          "metadata": {},
          "execution_count": 2
        }
      ]
    },
    {
      "cell_type": "markdown",
      "source": [
        "One of splendid codes from leetcode discussion (shortend ver. of mine)"
      ],
      "metadata": {
        "id": "6V0nBXJ8YwX8"
      }
    },
    {
      "cell_type": "code",
      "source": [
        "class Solution(object):\n",
        "def strStr(self, haystack, needle):\n",
        "    \"\"\"\n",
        "    :type haystack: str\n",
        "    :type needle: str\n",
        "    :rtype: int\n",
        "    \"\"\"\n",
        "    for i in range(len(haystack) - len(needle)+1):\n",
        "        if haystack[i:i+len(needle)] == needle:\n",
        "            return i\n",
        "    return -1\n",
        "\n",
        "## USING KMP ALGORITHM"
      ],
      "metadata": {
        "id": "ec3BYzZmY2dq"
      },
      "execution_count": null,
      "outputs": []
    },
    {
      "cell_type": "markdown",
      "source": [
        "[!!! KMP ALGORITHM !!!](https://bowbowbow.tistory.com/6)"
      ],
      "metadata": {
        "id": "0GuNuHWxZ_1W"
      }
    },
    {
      "cell_type": "code",
      "source": [
        ""
      ],
      "metadata": {
        "id": "yWQ_CZ1ZZ_91"
      },
      "execution_count": null,
      "outputs": []
    },
    {
      "cell_type": "markdown",
      "source": [
        "# 35.Search Insert Position (Unsolved)"
      ],
      "metadata": {
        "id": "V2IJl-hetzl8"
      }
    },
    {
      "cell_type": "markdown",
      "source": [
        "Using divide & conquer"
      ],
      "metadata": {
        "id": "0IxziSG-ZR7R"
      }
    },
    {
      "cell_type": "code",
      "source": [
        "class Solution(object):\n",
        "    def searchInsert(self, nums, target):\n",
        "        \"\"\"\n",
        "        :type nums: List[int]\n",
        "        :type target: int\n",
        "        :rtype: int\n",
        "        \"\"\"\n",
        "\n",
        "        "
      ],
      "metadata": {
        "id": "BhqOssHQb4jH"
      },
      "execution_count": null,
      "outputs": []
    },
    {
      "cell_type": "code",
      "source": [
        "digits = [9, 234, 7]\n",
        "\n",
        "print(Solution().plusOne(digits))"
      ],
      "metadata": {
        "id": "rKaJdlnEb8Rs"
      },
      "execution_count": null,
      "outputs": []
    },
    {
      "cell_type": "markdown",
      "source": [
        "Not using divide and conquer"
      ],
      "metadata": {
        "id": "Pi3h0nvLZSol"
      }
    },
    {
      "cell_type": "markdown",
      "source": [
        "67.55 / 80.65"
      ],
      "metadata": {
        "id": "wRyG_vSqfUhv"
      }
    },
    {
      "cell_type": "code",
      "source": [
        "class Solution(object):\n",
        "    def searchInsert(self, nums, target):\n",
        "        \"\"\"\n",
        "        :type nums: List[int]\n",
        "        :type target: int\n",
        "        :rtype: int\n",
        "        \"\"\"\n",
        "\n",
        "        min_indice, max_indice = 0, len(nums) - 1\n",
        "\n",
        "        if target > nums[max_indice] : # when the target is the largest among the nums elements\n",
        "          return max_indice + 1\n",
        "        elif target == nums[max_indice]:\n",
        "          return max_indice\n",
        "        elif target <= nums[min_indice] :\n",
        "          return min_indice\n",
        "\n",
        "        else:\n",
        "          while True:\n",
        "            if target > nums[(int((min_indice + max_indice) // 2))] :\n",
        "              min_indice = (min_indice + max_indice) // 2\n",
        "            \n",
        "            else:\n",
        "              max_indice = (min_indice + max_indice) // 2\n",
        "\n",
        "            \n",
        "            if (max_indice - min_indice) in [0, 1]:\n",
        "              break\n",
        "            \n",
        "          return max_indice\n",
        "         "
      ],
      "metadata": {
        "id": "qKAh7yM4ZStW"
      },
      "execution_count": null,
      "outputs": []
    },
    {
      "cell_type": "markdown",
      "source": [
        "135, 1 should be 0 but 1 came out"
      ],
      "metadata": {
        "id": "1jPgd6FvepRh"
      }
    },
    {
      "cell_type": "code",
      "source": [
        "nums = [1, 3, 5]\n",
        "target = 5\n",
        "\n",
        "print(Solution().searchInsert(nums, target))"
      ],
      "metadata": {
        "id": "by-1Jd4kb7gW",
        "colab": {
          "base_uri": "https://localhost:8080/"
        },
        "outputId": "be478ceb-cad8-4e3a-ef80-d240bd9df770"
      },
      "execution_count": null,
      "outputs": [
        {
          "output_type": "stream",
          "name": "stdout",
          "text": [
            "2\n"
          ]
        }
      ]
    },
    {
      "cell_type": "markdown",
      "source": [
        "# 66.Plus One (Done / By myself)"
      ],
      "metadata": {
        "id": "bWuczw8ftr19"
      }
    },
    {
      "cell_type": "markdown",
      "source": [
        "99.93 / 17.18"
      ],
      "metadata": {
        "id": "tC5H_SLNvxTi"
      }
    },
    {
      "cell_type": "code",
      "source": [
        "class Solution(object):\n",
        "    def plusOne(self, digits):\n",
        "        \"\"\"\n",
        "        :type digits: List[int]\n",
        "        :rtype: List[int]\n",
        "        \"\"\"\n",
        "        \n",
        "        def split(word):\n",
        "          return [char for char in word]\n",
        "\n",
        "        temp = str( int(\"\".join(map(str, digits))) + 1 )\n",
        "\n",
        "        return split(temp)\n",
        "        \n",
        "        \n",
        "        "
      ],
      "metadata": {
        "id": "MrOxzLE6tsA9"
      },
      "execution_count": null,
      "outputs": []
    },
    {
      "cell_type": "code",
      "source": [
        "digits = [9, 234, 7]\n",
        "\n",
        "print(Solution().plusOne(digits))"
      ],
      "metadata": {
        "colab": {
          "base_uri": "https://localhost:8080/"
        },
        "id": "AMgjW4__t60T",
        "outputId": "0dbcc48d-5566-4ea0-9053-cefbced119e0"
      },
      "execution_count": null,
      "outputs": [
        {
          "output_type": "stream",
          "name": "stdout",
          "text": [
            "['9', '2', '3', '4', '8']\n"
          ]
        }
      ]
    },
    {
      "cell_type": "markdown",
      "source": [
        "86 / 43"
      ],
      "metadata": {
        "id": "PJTjmP69v3FQ"
      }
    },
    {
      "cell_type": "code",
      "source": [
        "class Solution(object):\n",
        "    def plusOne(self, digits):\n",
        "        \"\"\"\n",
        "        :type digits: List[int]\n",
        "        :rtype: List[int]\n",
        "        \"\"\"\n",
        "        \n",
        "        def split(word):\n",
        "          return [char for char in word]\n",
        "\n",
        "\n",
        "        return split(str( int(\"\".join(map(str, digits))) + 1 ))\n",
        "        \n",
        "        \n",
        "        "
      ],
      "metadata": {
        "id": "-THOHVEzv1gZ"
      },
      "execution_count": null,
      "outputs": []
    },
    {
      "cell_type": "code",
      "source": [
        "digits = [9, 234, 7]\n",
        "\n",
        "print(Solution().plusOne(digits))"
      ],
      "metadata": {
        "colab": {
          "base_uri": "https://localhost:8080/"
        },
        "id": "T7BKpXmWu5zT",
        "outputId": "6b598fc9-bc8f-4d8b-b3c6-c256d1e32833"
      },
      "execution_count": null,
      "outputs": [
        {
          "output_type": "stream",
          "name": "stdout",
          "text": [
            "['9', '2', '3', '4', '8']\n"
          ]
        }
      ]
    },
    {
      "cell_type": "markdown",
      "source": [
        "24 / 91"
      ],
      "metadata": {
        "id": "6v-MM-Thwdkj"
      }
    },
    {
      "cell_type": "code",
      "source": [
        "class Solution(object):\n",
        "    def plusOne(self, digits):\n",
        "        \"\"\"\n",
        "        :type digits: List[int]\n",
        "        :rtype: List[int]\n",
        "        \"\"\"\n",
        "\n",
        "        return [char for char in (str( int(\"\".join(map(str, digits))) + 1 ))]\n"
      ],
      "metadata": {
        "id": "1S9ikfIPwKES"
      },
      "execution_count": null,
      "outputs": []
    },
    {
      "cell_type": "code",
      "source": [
        "digits = [9, 234, 7]\n",
        "\n",
        "print(Solution().plusOne(digits))"
      ],
      "metadata": {
        "colab": {
          "base_uri": "https://localhost:8080/"
        },
        "id": "f8Ww87HqwKGx",
        "outputId": "d3f104a8-ff61-4010-a35f-19d94e99e612"
      },
      "execution_count": null,
      "outputs": [
        {
          "output_type": "stream",
          "name": "stdout",
          "text": [
            "['9', '2', '3', '4', '8']\n"
          ]
        }
      ]
    },
    {
      "cell_type": "markdown",
      "source": [
        "# 58.Length of Last Word (Done / By myself)"
      ],
      "metadata": {
        "id": "SiEFG514wjZR"
      }
    },
    {
      "cell_type": "markdown",
      "source": [
        "76 / 52"
      ],
      "metadata": {
        "id": "bnPh9EI7xpo5"
      }
    },
    {
      "cell_type": "code",
      "source": [
        "class Solution(object):\n",
        "    def lengthOfLastWord(self, s):\n",
        "        \"\"\"\n",
        "        :type s: str\n",
        "        :rtype: int\n",
        "        \"\"\"\n",
        "        checker = 0\n",
        "\n",
        "        for char in s[::-1]:\n",
        "          if char == \" \":\n",
        "            if checker == 0:\n",
        "              continue\n",
        "            else:\n",
        "              break\n",
        "          else:\n",
        "            checker += 1\n",
        "\n",
        "        return checker"
      ],
      "metadata": {
        "id": "j7WvGJvVwjeS"
      },
      "execution_count": null,
      "outputs": []
    },
    {
      "cell_type": "code",
      "source": [
        "s = \"luffy is still joyboy\"\n",
        "\n",
        "print(Solution().lengthOfLastWord(s))"
      ],
      "metadata": {
        "colab": {
          "base_uri": "https://localhost:8080/"
        },
        "id": "Sgfwiio2vADp",
        "outputId": "b94f9b23-aa1b-4ed5-b384-a736ee5b3936"
      },
      "execution_count": null,
      "outputs": [
        {
          "output_type": "stream",
          "name": "stdout",
          "text": [
            "6\n"
          ]
        }
      ]
    },
    {
      "cell_type": "code",
      "source": [
        ""
      ],
      "metadata": {
        "id": "mQs8-IY3xA1a"
      },
      "execution_count": null,
      "outputs": []
    },
    {
      "cell_type": "markdown",
      "source": [
        "# 69.Sqrt(x) (Done / By myself)"
      ],
      "metadata": {
        "id": "53m9ORUVxvi1"
      }
    },
    {
      "cell_type": "markdown",
      "source": [
        "Binary search"
      ],
      "metadata": {
        "id": "9OiZPr-Fz2kb"
      }
    },
    {
      "cell_type": "markdown",
      "source": [
        "Time Limit Exceeded ㅠㅠ"
      ],
      "metadata": {
        "id": "6AZpmstw9JyG"
      }
    },
    {
      "cell_type": "code",
      "source": [
        "class Solution(object):\n",
        "    def mySqrt(self, x):\n",
        "        \"\"\"\n",
        "        :type x: int\n",
        "        :rtype: int\n",
        "        \"\"\"\n",
        "        threshold = x\n",
        "        min = 0\n",
        "\n",
        "        while True:\n",
        "          \n",
        "          if round( (min + threshold) / 2) ** 2 > x:\n",
        "            threshold = round( (min + threshold) / 2)\n",
        "\n",
        "          \n",
        "          else: \n",
        "            min = round( (min + threshold) / 2)\n",
        "\n",
        "            if (min + 1) ** 2 > x:\n",
        "              break\n",
        "            else:\n",
        "              continue\n",
        "\n",
        "        return int(min)\n",
        "            \n",
        "          "
      ],
      "metadata": {
        "id": "DcK2KpoH1jOo"
      },
      "execution_count": null,
      "outputs": []
    },
    {
      "cell_type": "markdown",
      "source": [
        "43 / 63"
      ],
      "metadata": {
        "id": "bJrMFJMg9NC0"
      }
    },
    {
      "cell_type": "code",
      "source": [
        "class Solution(object):\n",
        "    def mySqrt(self, x):\n",
        "        \"\"\"\n",
        "        :type x: int\n",
        "        :rtype: int\n",
        "        \"\"\"\n",
        "        over = x\n",
        "        under = 0\n",
        "\n",
        "        if ((over * over) == x):\n",
        "          return over\n",
        "        elif ((under * under) == x):\n",
        "          return under\n",
        "        else:\n",
        "          while True:\n",
        "          \n",
        "            if round( (under + over) / 2) * round( (under + over) / 2) > x: # (언더, 오버의 평균)^2가 x를 넘으면\n",
        "              over = round( (under + over) / 2) # 오버를 위 수치로 낮춤\n",
        "\n",
        "            \n",
        "            else: # x를 안넘으면\n",
        "              under = round( (under + over) / 2)\n",
        "\n",
        "            if (int(over - under) == 1) | (int(over - under) == 0):\n",
        "              break\n",
        "          return int(under)\n",
        "          \n",
        "          "
      ],
      "metadata": {
        "id": "XRpesoYA71Z1"
      },
      "execution_count": null,
      "outputs": []
    },
    {
      "cell_type": "code",
      "source": [
        "x = 626\n",
        "\n",
        "print(Solution().mySqrt(x))"
      ],
      "metadata": {
        "colab": {
          "base_uri": "https://localhost:8080/"
        },
        "id": "KB8sEEUf9mdq",
        "outputId": "4ad3cdf0-672b-47e0-ee53-432850d8eda7"
      },
      "execution_count": null,
      "outputs": [
        {
          "output_type": "stream",
          "name": "stdout",
          "text": [
            "25\n"
          ]
        }
      ]
    },
    {
      "cell_type": "markdown",
      "source": [
        "# 70.Climbing Stairs (Done / By myself)"
      ],
      "metadata": {
        "id": "14WtOP1FyJP5"
      }
    },
    {
      "cell_type": "markdown",
      "source": [
        "66 / 63"
      ],
      "metadata": {
        "id": "m2M0LLIn1U6f"
      }
    },
    {
      "cell_type": "code",
      "source": [
        "class Solution(object):\n",
        "    def climbStairs(self, n):\n",
        "        \"\"\"\n",
        "        :type n: int\n",
        "        :rtype: int\n",
        "        \"\"\"\n",
        "\n",
        "        def fact(n):\n",
        "          return n * fact(n-1) if n > 1 else 1\n",
        "\n",
        "        ans = 0\n",
        "\n",
        "        if (n%2) == 0 : # n is even number\n",
        "          for onestep in range(0, n+1, 2) :\n",
        "            # of onestep : onestep\n",
        "            # of twostep : (n - onestep) / 2\n",
        "\n",
        "            ans += ( fact( onestep + ((n - onestep) / 2 )) ) / fact(onestep) / fact(((n - onestep) / 2 ))\n",
        "            \n",
        "\n",
        "        else: # n is odd number\n",
        "          for onestep in range(1, n+1, 2) :\n",
        "            # of onestep : onestep\n",
        "            # of twostep : (n - onestep) / 2\n",
        "\n",
        "            ans += ( fact( onestep + ((n - onestep) / 2 )) ) / fact(onestep) / fact(((n - onestep) / 2 ))\n",
        "\n",
        "        return int(ans)\n",
        "        "
      ],
      "metadata": {
        "id": "4PR807ixyJYa"
      },
      "execution_count": null,
      "outputs": []
    },
    {
      "cell_type": "code",
      "source": [
        "n = \n",
        "\n",
        "print(Solution().climbStairs(n))"
      ],
      "metadata": {
        "colab": {
          "base_uri": "https://localhost:8080/"
        },
        "id": "0LQafBq2xvzL",
        "outputId": "4ee5fd6a-8967-47c0-dcc2-d8d1aec5130a"
      },
      "execution_count": null,
      "outputs": [
        {
          "output_type": "stream",
          "name": "stdout",
          "text": [
            "3\n"
          ]
        }
      ]
    },
    {
      "cell_type": "markdown",
      "source": [
        "[linked list](https://www.youtube.com/watch?v=Ast5sKQXxEU)"
      ],
      "metadata": {
        "id": "CGRxR60s3jgR"
      }
    },
    {
      "cell_type": "code",
      "source": [
        "class Node(object):\n",
        "  def __init__(self, d, n = None) :\n",
        "    self.data = d\n",
        "    self.next_node = n\n",
        "\n",
        "  def get_next(self):\n",
        "    return self.next_node\n",
        "\n",
        "  def set_next(self, n):\n",
        "    self.next_node = n\n",
        "\n",
        "  def get_data(self):\n",
        "    return self.data\n",
        "\n",
        "  def set_data(self, d):\n",
        "    self.data = d\n",
        "        \n",
        "class LinkedList(object):\n",
        "\n",
        "  def __init__(self, r = None) :\n",
        "    self.root = r\n",
        "    self.size = 0\n",
        "\n",
        "  def get_size(self):\n",
        "    return self.size\n",
        "\n",
        "  def add(self, d):\n",
        "    new_node = Node(d, self.root)\n",
        "    self.root = new_node\n",
        "    self.size += 1\n",
        "\n",
        "  def remove(self, d):\n",
        "    this_node = self.root\n",
        "    prev_node = None\n",
        "\n",
        "    while this_node:\n",
        "\n",
        "      if this_node.get_data() == d:\n",
        "\n",
        "        if prev_node:\n",
        "          prev_node.set_next(this_node.get_next())\n",
        "\n",
        "        else:\n",
        "          self.root = this_node\n",
        "        self.size -= 1\n",
        "        return True # data removed\n",
        "\n",
        "      else:\n",
        "        prev_node = this_node\n",
        "        this_node = this_node.get_next()\n",
        "\n",
        "    return False # data not found\n",
        "\n",
        "  def find(self, d):\n",
        "    this_node = self.root\n",
        "    while this_node:\n",
        "      if this_node.get_data() == d:\n",
        "        return d\n",
        "      \n",
        "      else:\n",
        "        this_node = this_node.get_next()\n",
        "    \n",
        "    return None"
      ],
      "metadata": {
        "id": "O8bhjhfz3joj"
      },
      "execution_count": null,
      "outputs": []
    },
    {
      "cell_type": "code",
      "source": [
        "myList = LinkedList()"
      ],
      "metadata": {
        "id": "ss6M80q9zYPa"
      },
      "execution_count": null,
      "outputs": []
    },
    {
      "cell_type": "code",
      "source": [
        "myList.add(5)"
      ],
      "metadata": {
        "id": "FDoaa70WdIwG"
      },
      "execution_count": null,
      "outputs": []
    },
    {
      "cell_type": "code",
      "source": [
        "myList.add(8)"
      ],
      "metadata": {
        "id": "vN7zFItGdKIW"
      },
      "execution_count": null,
      "outputs": []
    },
    {
      "cell_type": "code",
      "source": [
        "myList.add(12)"
      ],
      "metadata": {
        "id": "cgTTj3LUdLXt"
      },
      "execution_count": null,
      "outputs": []
    },
    {
      "cell_type": "code",
      "source": [
        "myList.remove(8)"
      ],
      "metadata": {
        "colab": {
          "base_uri": "https://localhost:8080/"
        },
        "id": "cRMOH9-qdQ31",
        "outputId": "03b77fcb-b143-4c40-f4af-dd655b4cb98f"
      },
      "execution_count": null,
      "outputs": [
        {
          "output_type": "execute_result",
          "data": {
            "text/plain": [
              "True"
            ]
          },
          "metadata": {},
          "execution_count": 19
        }
      ]
    },
    {
      "cell_type": "code",
      "source": [
        "print(myList.remove(12))"
      ],
      "metadata": {
        "colab": {
          "base_uri": "https://localhost:8080/"
        },
        "id": "EApJgK5udSBu",
        "outputId": "556b2649-c62c-4c81-a364-dd25d259bde1"
      },
      "execution_count": null,
      "outputs": [
        {
          "output_type": "stream",
          "name": "stdout",
          "text": [
            "True\n"
          ]
        }
      ]
    },
    {
      "cell_type": "code",
      "source": [
        "print(myList.find(5))"
      ],
      "metadata": {
        "colab": {
          "base_uri": "https://localhost:8080/"
        },
        "id": "t15hyopHdUx-",
        "outputId": "4502f4f9-9d4f-4a02-e3f1-23ec43307034"
      },
      "execution_count": null,
      "outputs": [
        {
          "output_type": "stream",
          "name": "stdout",
          "text": [
            "5\n"
          ]
        }
      ]
    },
    {
      "cell_type": "code",
      "source": [
        ""
      ],
      "metadata": {
        "id": "fJmOtE30dW4e"
      },
      "execution_count": null,
      "outputs": []
    },
    {
      "cell_type": "markdown",
      "source": [
        "# 118.Pascal's Triangle (Done / By myself)"
      ],
      "metadata": {
        "id": "whF8Q5HYf1ZZ"
      }
    },
    {
      "cell_type": "markdown",
      "source": [
        "74 / 12"
      ],
      "metadata": {
        "id": "4A4bUj7BcJdw"
      }
    },
    {
      "cell_type": "code",
      "source": [
        "class Solution(object):\n",
        "    def generate(self, numRows):\n",
        "        \"\"\"\n",
        "        :type numRows: int\n",
        "        :rtype: List[List[int]]\n",
        "        \"\"\"\n",
        "        container = []\n",
        "        \n",
        "        for num in range(0, numRows):\n",
        "          temp = []\n",
        "          for i in range(0, num+1):\n",
        "            \n",
        "            if (i == 0) or (i == num):\n",
        "              temp.append(1)\n",
        "            else:\n",
        "              temp.append( container[num-1][i-1] + container[num-1][i])\n",
        "          \n",
        "          container.append(temp)\n",
        "        print(container)\n",
        "\n",
        "numRows = 5\n",
        "\n",
        "Solved = Solution().generate(numRows)"
      ],
      "metadata": {
        "id": "QT5wYGgHf1fn"
      },
      "execution_count": null,
      "outputs": []
    },
    {
      "cell_type": "markdown",
      "source": [
        "42 / 97 (using list comprehension)"
      ],
      "metadata": {
        "id": "7PTugF_0cQhF"
      }
    },
    {
      "cell_type": "code",
      "source": [
        "class Solution(object):\n",
        "    def generate(self, numRows):\n",
        "        \"\"\"\n",
        "        :type numRows: int\n",
        "        :rtype: List[List[int]]\n",
        "        \"\"\"\n",
        "        container = []\n",
        "        \n",
        "        for num in range(0, numRows):\n",
        "\n",
        "          container.append([ 1 if (i == 0 ) or (i == num) else container[num-1][i-1] + container[num-1][i] for i in range(0, num + 1)])\n",
        "        \n",
        "        print(container)\n",
        "\n",
        "numRows = 5\n",
        "\n",
        "Solved = Solution().generate(numRows)"
      ],
      "metadata": {
        "colab": {
          "base_uri": "https://localhost:8080/"
        },
        "id": "SlnNY3TrcQla",
        "outputId": "4375b11a-318f-4e7e-bc76-fe3d3f07f2f0"
      },
      "execution_count": null,
      "outputs": [
        {
          "output_type": "stream",
          "name": "stdout",
          "text": [
            "[[1], [1, 1], [1, 2, 1], [1, 3, 3, 1], [1, 4, 6, 4, 1]]\n"
          ]
        }
      ]
    },
    {
      "cell_type": "markdown",
      "source": [
        "80 / 87 (generator is faster than comprehension)"
      ],
      "metadata": {
        "id": "8K0HZxqYeRhJ"
      }
    },
    {
      "cell_type": "code",
      "source": [
        "class Solution(object):\n",
        "    def generate(self, numRows):\n",
        "        \"\"\"\n",
        "        :type numRows: int\n",
        "        :rtype: List[List[int]]\n",
        "        \"\"\"\n",
        "        container = []\n",
        "        \n",
        "        for num in range(0, numRows):\n",
        "\n",
        "          container.append(list( 1 if (i == 0 ) or (i == num) else container[num-1][i-1] + container[num-1][i] for i in range(0, num + 1)))\n",
        "        \n",
        "        print(container)\n",
        "\n",
        "numRows = 5\n",
        "\n",
        "Solved = Solution().generate(numRows)"
      ],
      "metadata": {
        "colab": {
          "base_uri": "https://localhost:8080/"
        },
        "id": "vUdqHELocErU",
        "outputId": "2d6b52e4-c8d8-48d2-a483-cf1061b1b7cd"
      },
      "execution_count": null,
      "outputs": [
        {
          "output_type": "stream",
          "name": "stdout",
          "text": [
            "[[1], [1, 1], [1, 2, 1], [1, 3, 3, 1], [1, 4, 6, 4, 1]]\n"
          ]
        }
      ]
    },
    {
      "cell_type": "markdown",
      "source": [
        "VERY SHORT solution from leetcode"
      ],
      "metadata": {
        "id": "0K-5bmtfawMK"
      }
    },
    {
      "cell_type": "code",
      "source": [
        "def generate(self, numRows):\n",
        "        res = [[1]]\n",
        "        for i in range(1, numRows):\n",
        "            res += [map(lambda x, y: x+y, res[-1] + [0], [0] + res[-1])]\n",
        "        return res[:numRows]"
      ],
      "metadata": {
        "id": "QkH0G61vawYx"
      },
      "execution_count": null,
      "outputs": []
    },
    {
      "cell_type": "code",
      "source": [
        ""
      ],
      "metadata": {
        "colab": {
          "base_uri": "https://localhost:8080/"
        },
        "id": "2j3Xn6UNf1hw",
        "outputId": "b1179d75-7439-41e2-8e22-e572344e9515"
      },
      "execution_count": null,
      "outputs": [
        {
          "output_type": "stream",
          "name": "stdout",
          "text": [
            "[[1], [1, 1], [1, 2, 1], [1, 3, 3, 1], [1, 4, 6, 4, 1]]\n"
          ]
        }
      ]
    },
    {
      "cell_type": "code",
      "source": [
        ""
      ],
      "metadata": {
        "id": "EfbnUhwQf1j6"
      },
      "execution_count": null,
      "outputs": []
    },
    {
      "cell_type": "markdown",
      "source": [
        "# 136.Single Number"
      ],
      "metadata": {
        "id": "W3iL1yjHbSQj"
      }
    },
    {
      "cell_type": "code",
      "source": [
        "class Solution(object):\n",
        "    def singleNumber(self, nums):\n",
        "        \"\"\"\n",
        "        :type nums: List[int]\n",
        "        :rtype: int\n",
        "        \"\"\"\n",
        "        hash = {}\n",
        "\n",
        "        for element in nums:\n",
        "          if hash[str(element)] \n",
        "        "
      ],
      "metadata": {
        "id": "7VNya-_abSU8"
      },
      "execution_count": null,
      "outputs": []
    },
    {
      "cell_type": "markdown",
      "source": [
        "Given a non-empty array of integers nums, every element appears twice except for one. Find that single one."
      ],
      "metadata": {
        "id": "qTBEfJmxbgp2"
      }
    },
    {
      "cell_type": "code",
      "source": [
        "b = {}\n",
        "\n",
        "b['dsaf'] = \"afsdf\"\n",
        "b['dsafa'] = \"afsdfda\"\n",
        "\n",
        "b\n",
        "\n"
      ],
      "metadata": {
        "colab": {
          "base_uri": "https://localhost:8080/"
        },
        "id": "dmwhEzh8biZa",
        "outputId": "bfb8f661-fd29-42c6-b0a7-3bc12397ad70"
      },
      "execution_count": null,
      "outputs": [
        {
          "output_type": "execute_result",
          "data": {
            "text/plain": [
              "{'dsaf': 'afsdf', 'dsafa': 'afsdfda'}"
            ]
          },
          "metadata": {},
          "execution_count": 9
        }
      ]
    },
    {
      "cell_type": "code",
      "source": [
        "b.pop('dsaf')\n",
        "print(b)"
      ],
      "metadata": {
        "colab": {
          "base_uri": "https://localhost:8080/"
        },
        "id": "4YXlFVUGdrUQ",
        "outputId": "4f32471c-189d-495f-9085-76eef40bdff7"
      },
      "execution_count": null,
      "outputs": [
        {
          "output_type": "stream",
          "name": "stdout",
          "text": [
            "{'dsafa': 'afsdfda'}\n"
          ]
        }
      ]
    },
    {
      "cell_type": "code",
      "source": [
        "b.keys()"
      ],
      "metadata": {
        "colab": {
          "base_uri": "https://localhost:8080/"
        },
        "id": "aoGcYVG8eEYM",
        "outputId": "bd5d2afd-ab6c-478c-ae78-cd43d0750757"
      },
      "execution_count": null,
      "outputs": [
        {
          "output_type": "execute_result",
          "data": {
            "text/plain": [
              "dict_keys(['dsafa'])"
            ]
          },
          "metadata": {},
          "execution_count": 11
        }
      ]
    },
    {
      "cell_type": "code",
      "source": [
        "xx = {\"2\" : 2}\n",
        "\n",
        "xx[\"1\"]"
      ],
      "metadata": {
        "colab": {
          "base_uri": "https://localhost:8080/",
          "height": 211
        },
        "id": "ev3MlAVUeOtz",
        "outputId": "a4d76030-5943-4e90-a54a-fa5306f82637"
      },
      "execution_count": null,
      "outputs": [
        {
          "output_type": "error",
          "ename": "KeyError",
          "evalue": "ignored",
          "traceback": [
            "\u001b[0;31m---------------------------------------------------------------------------\u001b[0m",
            "\u001b[0;31mKeyError\u001b[0m                                  Traceback (most recent call last)",
            "\u001b[0;32m<ipython-input-12-8f64aebcb1da>\u001b[0m in \u001b[0;36m<module>\u001b[0;34m()\u001b[0m\n\u001b[1;32m      1\u001b[0m \u001b[0mxx\u001b[0m \u001b[0;34m=\u001b[0m \u001b[0;34m{\u001b[0m\u001b[0;34m\"2\"\u001b[0m \u001b[0;34m:\u001b[0m \u001b[0;36m2\u001b[0m\u001b[0;34m}\u001b[0m\u001b[0;34m\u001b[0m\u001b[0;34m\u001b[0m\u001b[0m\n\u001b[1;32m      2\u001b[0m \u001b[0;34m\u001b[0m\u001b[0m\n\u001b[0;32m----> 3\u001b[0;31m \u001b[0mxx\u001b[0m\u001b[0;34m[\u001b[0m\u001b[0;34m\"1\"\u001b[0m\u001b[0;34m]\u001b[0m\u001b[0;34m\u001b[0m\u001b[0;34m\u001b[0m\u001b[0m\n\u001b[0m",
            "\u001b[0;31mKeyError\u001b[0m: '1'"
          ]
        }
      ]
    },
    {
      "cell_type": "markdown",
      "source": [
        "#169.Majority Element ( Ongoing / Cheated A BIT / Important)"
      ],
      "metadata": {
        "id": "Jr6Kt-LUjXgL"
      }
    },
    {
      "cell_type": "markdown",
      "source": [
        "constraint : O(n) time, O(1) space<br>\n",
        "[Solutions](https://leetcode.com/problems/majority-element/solution/)"
      ],
      "metadata": {
        "id": "n61BXXCdmte6"
      }
    },
    {
      "cell_type": "markdown",
      "source": [
        "Brute-force (Cheated)"
      ],
      "metadata": {
        "id": "a9NV6eTApBRZ"
      }
    },
    {
      "cell_type": "code",
      "source": [
        "class Solution:\n",
        "    def majorityElement(self, nums):\n",
        "        majority_count = len(nums)//2\n",
        "        for num in nums:\n",
        "            count = sum(1 for elem in nums if elem == num)\n",
        "            if count > majority_count:\n",
        "                return num\n",
        "        \n",
        "\n",
        "        \n",
        "        "
      ],
      "metadata": {
        "id": "wJAtOCaHjXky"
      },
      "execution_count": null,
      "outputs": []
    },
    {
      "cell_type": "markdown",
      "source": [
        "After sorting"
      ],
      "metadata": {
        "id": "PRkM7Qthr74e"
      }
    },
    {
      "cell_type": "code",
      "source": [
        "class Solution:\n",
        "  def majorityElement(self, nums):\n",
        "    \n"
      ],
      "metadata": {
        "id": "quQshKJAnXw_"
      },
      "execution_count": null,
      "outputs": []
    },
    {
      "cell_type": "code",
      "source": [
        "nums = [2,2,1,1,1,2,2]\n",
        "\n",
        "a = Solution().majorityElement(nums)\n",
        "print(a)"
      ],
      "metadata": {
        "id": "S79ZtIeYof9v"
      },
      "execution_count": null,
      "outputs": []
    },
    {
      "cell_type": "code",
      "source": [
        ""
      ],
      "metadata": {
        "id": "aM92mhLNoqvR"
      },
      "execution_count": null,
      "outputs": []
    },
    {
      "cell_type": "markdown",
      "source": [
        "Divide and Conquer"
      ],
      "metadata": {
        "id": "uYQ26tqpnXG6"
      }
    },
    {
      "cell_type": "code",
      "source": [
        ""
      ],
      "metadata": {
        "id": "Y5-o1V96nXR4"
      },
      "execution_count": null,
      "outputs": []
    },
    {
      "cell_type": "code",
      "source": [
        ""
      ],
      "metadata": {
        "id": "SYotAvUmykdo"
      },
      "execution_count": null,
      "outputs": []
    },
    {
      "cell_type": "markdown",
      "source": [
        "Using hashmap"
      ],
      "metadata": {
        "id": "kCf6Y-kxyj_R"
      }
    },
    {
      "cell_type": "markdown",
      "source": [
        "30 / 92"
      ],
      "metadata": {
        "id": "u-TxG1FmyxQ9"
      }
    },
    {
      "cell_type": "code",
      "source": [
        ""
      ],
      "metadata": {
        "id": "Bi6mymFXykJI"
      },
      "execution_count": null,
      "outputs": []
    },
    {
      "cell_type": "code",
      "source": [
        "class Solution(object):\n",
        "    def majorityElement(self, nums):\n",
        "        \"\"\"\n",
        "        :type nums: List[int]\n",
        "        :rtype: int\n",
        "        \"\"\"\n",
        "        p = {}\n",
        "        for ele in nums:\n",
        "          \n",
        "          if str(ele) in p.keys():\n",
        "            p[str(ele)] += 1\n",
        "          else:\n",
        "            p[str(ele)] = 1\n",
        "\n",
        "        return int(list(p.keys())[list(p.values()).index(max(p.values()))])\n",
        "\n",
        "\n",
        "    "
      ],
      "metadata": {
        "id": "IBd5t9uir8C5"
      },
      "execution_count": null,
      "outputs": []
    },
    {
      "cell_type": "code",
      "source": [
        "nums = [2,2,1,1,1,2,2]\n",
        "a = Solution().majorityElement(nums)\n",
        "print(a)"
      ],
      "metadata": {
        "colab": {
          "base_uri": "https://localhost:8080/"
        },
        "id": "fmAI-gOfhmEr",
        "outputId": "0a770d6f-322c-471b-841c-c4539e6ada77"
      },
      "execution_count": null,
      "outputs": [
        {
          "output_type": "stream",
          "name": "stdout",
          "text": [
            "2\n"
          ]
        }
      ]
    },
    {
      "cell_type": "markdown",
      "source": [
        "# 190.Reverse Bits ( / helped)"
      ],
      "metadata": {
        "id": "oxga5ljKhmSd"
      }
    },
    {
      "cell_type": "code",
      "source": [
        "class Solution:\n",
        "  \n",
        "    def reverseBits(self, n):\n",
        "        "
      ],
      "metadata": {
        "id": "1Y_Fz7hMhmYd"
      },
      "execution_count": null,
      "outputs": []
    },
    {
      "cell_type": "code",
      "source": [
        "n = '00000010100101000001111010011100'\n",
        "print(n[::-1])"
      ],
      "metadata": {
        "colab": {
          "base_uri": "https://localhost:8080/"
        },
        "id": "tvZ3AAmjhpY0",
        "outputId": "a6c98157-9f64-4f3f-a0cd-21442c4fb3e5"
      },
      "execution_count": null,
      "outputs": [
        {
          "output_type": "stream",
          "name": "stdout",
          "text": [
            "00111001011110000010100101000000\n"
          ]
        }
      ]
    },
    {
      "cell_type": "markdown",
      "source": [
        "[Bit shift](https://heestory217.tistory.com/81) in python?"
      ],
      "metadata": {
        "id": "YZIdx9iuiteH"
      }
    },
    {
      "cell_type": "code",
      "source": [
        "def reverseBits(self, n):\n",
        "    ans = 0\n",
        "    for i in xrange(32):\n",
        "        ans = (ans << 1) + (n & 1)\n",
        "        n >>= 1\n",
        "    return ans\n",
        "\n",
        "\n",
        "# 600 / 600 test cases passed.\n",
        "# Status: Accepted\n",
        "# Runtime: 44 ms\n",
        "# 98.59%"
      ],
      "metadata": {
        "id": "nqTntmOsitkl"
      },
      "execution_count": null,
      "outputs": []
    },
    {
      "cell_type": "markdown",
      "source": [
        "# 202.Happy Number (Done / Cannot submit)"
      ],
      "metadata": {
        "id": "O-VE6K7vhB1A"
      }
    },
    {
      "cell_type": "code",
      "source": [
        ""
      ],
      "metadata": {
        "id": "scHkVNqGxKQL"
      },
      "execution_count": null,
      "outputs": []
    },
    {
      "cell_type": "markdown",
      "source": [
        "# 206.Reverse Linked List (Done / By myself)"
      ],
      "metadata": {
        "id": "7T5q1_m-XztL"
      }
    },
    {
      "cell_type": "markdown",
      "source": [
        "58 / 34"
      ],
      "metadata": {
        "id": "I1Vz_kZom2d5"
      }
    },
    {
      "cell_type": "code",
      "source": [
        "# Definition for singly-linked list.\n",
        "# class ListNode(object):\n",
        "#     def __init__(self, val=0, next=None):\n",
        "#         self.val = val\n",
        "#         self.next = next\n",
        "class Solution(object):\n",
        "    def reverseList(self, head):\n",
        "        \"\"\"\n",
        "        :type head: ListNode\n",
        "        :rtype: ListNode\n",
        "        \"\"\"\n",
        "\n",
        "        cursor, prehead = head, None\n",
        "\n",
        "        while cursor != None:\n",
        "\n",
        "            newhead = cursor\n",
        "            cursor = cursor.next # cursor traverse each node\n",
        "\n",
        "            newhead.next = prehead\n",
        "            prehead = newhead\n",
        "\n",
        "        return prehead\n",
        "        "
      ],
      "metadata": {
        "id": "5LBt8OiCXz1x"
      },
      "execution_count": null,
      "outputs": []
    },
    {
      "cell_type": "code",
      "source": [
        "ans = Solution().reverseList(head)\n",
        "print(ans)"
      ],
      "metadata": {
        "colab": {
          "base_uri": "https://localhost:8080/"
        },
        "id": "-wy6A8folovx",
        "outputId": "5d1737df-4f87-4c44-ace9-009d48a118e3"
      },
      "execution_count": null,
      "outputs": [
        {
          "output_type": "stream",
          "name": "stdout",
          "text": [
            "5\n"
          ]
        }
      ]
    },
    {
      "cell_type": "markdown",
      "source": [
        "# 344.Reverse String (Done / By myself)"
      ],
      "metadata": {
        "id": "j28zUU4lklJe"
      }
    },
    {
      "cell_type": "markdown",
      "source": [
        "94 / 14"
      ],
      "metadata": {
        "id": "temn2iu2mSuL"
      }
    },
    {
      "cell_type": "code",
      "source": [
        "class Solution(object):\n",
        "    def reverseString(self, s):\n",
        "        \"\"\"\n",
        "        :type s: List[str]\n",
        "        :rtype: None Do not return anything, modify s in-place instead.\n",
        "        \"\"\"\n",
        "\n",
        "        maximum = len(s) - 1\n",
        "        idx = 0\n",
        "\n",
        "        while True:\n",
        "          s[idx], s[maximum - idx] = s[maximum - idx], s[idx]\n",
        "          if idx == (maximum // 2):\n",
        "            break\n",
        "          idx += 1\n",
        "          \n",
        "        return s\n",
        "        "
      ],
      "metadata": {
        "id": "IsMRfXoAklOL"
      },
      "execution_count": null,
      "outputs": []
    },
    {
      "cell_type": "code",
      "source": [
        "s = [0]"
      ],
      "metadata": {
        "id": "yRmKFSihkq4_"
      },
      "execution_count": null,
      "outputs": []
    },
    {
      "cell_type": "code",
      "source": [
        "maximum = len(s) - 1\n",
        "idx = 0\n",
        "\n",
        "while True:\n",
        "  s[idx], s[maximum - idx] = s[maximum - idx], s[idx]\n",
        "  if idx == (maximum // 2):\n",
        "    break\n",
        "  idx += 1\n",
        "  \n",
        "s"
      ],
      "metadata": {
        "colab": {
          "base_uri": "https://localhost:8080/"
        },
        "id": "5dO0tLxgk0VJ",
        "outputId": "fa69d824-f173-4dbd-aa06-f0c0bba14042"
      },
      "execution_count": null,
      "outputs": [
        {
          "output_type": "execute_result",
          "data": {
            "text/plain": [
              "[0]"
            ]
          },
          "metadata": {},
          "execution_count": 18
        }
      ]
    },
    {
      "cell_type": "markdown",
      "source": [
        "# 283.Move Zeros"
      ],
      "metadata": {
        "id": "LdfTIpzxxLhT"
      }
    },
    {
      "cell_type": "markdown",
      "source": [
        "Idea :\n",
        "- 1st iter : [1, 2, **0**, 0, **4**, 8, 0, 11]\n",
        "- 2nd iter : [1, 2, 4, **0**, 0, **8**, 0, 11]\n",
        "- 3rd iter : [1, 2, 4, 8, **0**, 0, 0, **11**]\n",
        "- last iter : [1, 2, 4, 8, 11, 0, 0, 0] "
      ],
      "metadata": {
        "id": "bKE_8LEYigR8"
      }
    },
    {
      "cell_type": "markdown",
      "source": [
        "Apply sliding window for pivot (= 0) and change each pivot's postition with nonzero element's position until no more nonzero elements left"
      ],
      "metadata": {
        "id": "gpv8rpVGjMtr"
      }
    },
    {
      "cell_type": "markdown",
      "source": [
        "27 / 60"
      ],
      "metadata": {
        "id": "_tAVrVbpo7AH"
      }
    },
    {
      "cell_type": "code",
      "source": [
        "class Solution(object):\n",
        "    def moveZeroes(self, nums):\n",
        "        \"\"\"\n",
        "        :type nums: List[int]\n",
        "        :rtype: None Do not return anything, modify nums in-place instead.\n",
        "        \"\"\"\n",
        "        nonzeroes, zeroes = [], []\n",
        "\n",
        "        for ele in nums:\n",
        "          if ele == 0:\n",
        "            zeroes.append(0)\n",
        "          else:\n",
        "            nonzeroes.append(ele)\n",
        "        \n",
        "        nums[:len(nonzeroes)], nums[len(nonzeroes):] = nonzeroes, zeroes \n",
        "        return nums"
      ],
      "metadata": {
        "id": "Izgpkasfn5_w"
      },
      "execution_count": null,
      "outputs": []
    },
    {
      "cell_type": "code",
      "source": [
        "print(Solution().moveZeroes(nums))"
      ],
      "metadata": {
        "colab": {
          "base_uri": "https://localhost:8080/"
        },
        "id": "Gbe7S9-ZoUu3",
        "outputId": "22ef1d4f-dbf2-40e5-c05a-2076d46dfd9d"
      },
      "execution_count": null,
      "outputs": [
        {
          "output_type": "stream",
          "name": "stdout",
          "text": [
            "[4, 1, 0, 0, 0]\n"
          ]
        }
      ]
    },
    {
      "cell_type": "markdown",
      "source": [
        "60 / 13 (faster version, only compute nonzeroes)"
      ],
      "metadata": {
        "id": "mar7z4BCo8a2"
      }
    },
    {
      "cell_type": "code",
      "source": [
        "class Solution(object):\n",
        "    def moveZeroes(self, nums):\n",
        "        \"\"\"\n",
        "        :type nums: List[int]\n",
        "        :rtype: None Do not return anything, modify nums in-place instead.\n",
        "        \"\"\"\n",
        "        nonzeroes = []\n",
        "\n",
        "        for ele in nums:\n",
        "          if ele != 0:\n",
        "            nonzeroes.append(ele)\n",
        "        \n",
        "        nums[:len(nonzeroes)], nums[len(nonzeroes):] = nonzeroes, [0 for i in range(len(nums) - len(nonzeroes))]\n",
        "        return nums"
      ],
      "metadata": {
        "id": "UstOj4n4o8ez"
      },
      "execution_count": null,
      "outputs": []
    },
    {
      "cell_type": "code",
      "source": [
        "print(Solution().moveZeroes(nums))"
      ],
      "metadata": {
        "id": "IWeB4r3m7ZXF",
        "colab": {
          "base_uri": "https://localhost:8080/"
        },
        "outputId": "3eaf390f-e5a8-46d6-9737-b5d87dcb11c2"
      },
      "execution_count": null,
      "outputs": [
        {
          "output_type": "stream",
          "name": "stdout",
          "text": [
            "[4, 1, 0, 0, 0]\n"
          ]
        }
      ]
    },
    {
      "cell_type": "markdown",
      "source": [
        "(modified version, one-pass code) 31 / 60"
      ],
      "metadata": {
        "id": "IjcXYXtCqscD"
      }
    },
    {
      "cell_type": "code",
      "source": [
        "nums = [0,1,0,3,12]"
      ],
      "metadata": {
        "id": "d7cfdfB4rxu7"
      },
      "execution_count": null,
      "outputs": []
    },
    {
      "cell_type": "code",
      "source": [
        "class Solution(object):\n",
        "    def moveZeroes(self, nums):\n",
        "        \"\"\"\n",
        "        :type nums: List[int]\n",
        "        :rtype: None Do not return anything, modify nums in-place instead.\n",
        "        \"\"\"\n",
        "        # using enumerate?\n",
        "        idx = 0\n",
        "        for ele in nums:\n",
        "          if ele != 0:\n",
        "            nums[idx] = ele\n",
        "            idx += 1\n",
        "        \n",
        "        nums[idx:] = (0 for i in range( (len(nums) - idx)  ))\n",
        "        return nums"
      ],
      "metadata": {
        "id": "622rbHdgqsga"
      },
      "execution_count": null,
      "outputs": []
    },
    {
      "cell_type": "code",
      "source": [
        "print(Solution().moveZeroes(nums))"
      ],
      "metadata": {
        "colab": {
          "base_uri": "https://localhost:8080/"
        },
        "id": "S7EXi9_Gq1LQ",
        "outputId": "e68426f1-6585-4906-85c8-ce4bda65404e"
      },
      "execution_count": null,
      "outputs": [
        {
          "output_type": "stream",
          "name": "stdout",
          "text": [
            "[1, 3, 12, 0, 0]\n"
          ]
        }
      ]
    },
    {
      "cell_type": "code",
      "source": [
        ""
      ],
      "metadata": {
        "id": "tOHP0BFOsMRB"
      },
      "execution_count": null,
      "outputs": []
    },
    {
      "cell_type": "code",
      "source": [
        "nums"
      ],
      "metadata": {
        "colab": {
          "base_uri": "https://localhost:8080/"
        },
        "id": "IsauW51-sOFI",
        "outputId": "b814598f-831e-4e82-e161-f0689ec50f27"
      },
      "execution_count": null,
      "outputs": [
        {
          "output_type": "execute_result",
          "data": {
            "text/plain": [
              "[1, 3, 12, 0, 0]"
            ]
          },
          "metadata": {},
          "execution_count": 54
        }
      ]
    },
    {
      "cell_type": "code",
      "source": [
        "for a, b in enumerate(nums):\n",
        "  print(f\"a: {a}, b: {b}\")"
      ],
      "metadata": {
        "colab": {
          "base_uri": "https://localhost:8080/"
        },
        "id": "E04HBEnbsOHP",
        "outputId": "14510959-deff-4103-d9e9-1354fe9ec489"
      },
      "execution_count": null,
      "outputs": [
        {
          "output_type": "stream",
          "name": "stdout",
          "text": [
            "a: 0, b: 1\n",
            "a: 1, b: 3\n",
            "a: 2, b: 12\n",
            "a: 3, b: 0\n",
            "a: 4, b: 0\n"
          ]
        }
      ]
    },
    {
      "cell_type": "markdown",
      "source": [
        "# 392.Is Subsequence (Done / By myself + leetcode solutions)"
      ],
      "metadata": {
        "id": "GtE3wx18aWe4"
      }
    },
    {
      "cell_type": "markdown",
      "source": [
        "62 / 50"
      ],
      "metadata": {
        "id": "Ny40KORPc2NV"
      }
    },
    {
      "cell_type": "code",
      "source": [
        "s = \"\"\n",
        "t = \"\""
      ],
      "metadata": {
        "id": "XeTuQIZecSFw"
      },
      "execution_count": null,
      "outputs": []
    },
    {
      "cell_type": "code",
      "source": [
        "class Solution(object):\n",
        "    def isSubsequence(self, s, t):\n",
        "       \n",
        "       if len(s) == 0:\n",
        "         return True\n",
        "      \n",
        "    \n",
        "\n",
        "\n",
        "       for char in t:\n",
        "            if char == s[0]:\n",
        "              if len(s) != 1: # if this is the last letter of 's'\n",
        "                s = s[1:]\n",
        "              else:\n",
        "                return True\n",
        "\n",
        "       return False\n",
        "          \n",
        "        "
      ],
      "metadata": {
        "id": "Nxr8pPHccHcW"
      },
      "execution_count": null,
      "outputs": []
    },
    {
      "cell_type": "code",
      "source": [
        "print(Solution().isSubsequence(s, t))\n",
        "      "
      ],
      "metadata": {
        "colab": {
          "base_uri": "https://localhost:8080/"
        },
        "id": "RtQu4y9FaWjy",
        "outputId": "a0167dc2-cbba-470c-889e-795efbb92e93"
      },
      "execution_count": null,
      "outputs": [
        {
          "output_type": "stream",
          "name": "stdout",
          "text": [
            "False\n"
          ]
        }
      ]
    },
    {
      "cell_type": "markdown",
      "source": [
        " [leetcode solutions(fast/hard to understand/using 'iter')](https://leetcode.com/problems/is-subsequence/discuss/87258/2-lines-Python)"
      ],
      "metadata": {
        "id": "cA1sKcS0duYf"
      }
    },
    {
      "cell_type": "markdown",
      "source": [
        "This code is super short/fast but so hard to understand as a new python programmer. Here is an explanation for other Python newbies:\n",
        "\n",
        "First, we turned t into a iterator, and what that does is that \"c in it\" iterates through the iterator until the first position where it finds a match. See here.\n",
        "Second, (c in it for c in s) is a generator: it returns an iterator. More about generator [here](https://wiki.python.org/moin/Generators).\n",
        "Third, all() has only 1 parenthesis, so syntactic sugar: no need for double parentheses\n",
        "all() takes in an iterator as an argument and loops through to find the first False. If it can't find it, it return True. More about all/any and generator [here](https://leemendelowitz.github.io/blog/any-all-in-python.html)."
      ],
      "metadata": {
        "id": "TOZnFQmed-vW"
      }
    },
    {
      "cell_type": "code",
      "source": [
        "def isSubsequence(self, s, t):\n",
        "    t = iter(t)\n",
        "    return all(c in t for c in s)"
      ],
      "metadata": {
        "id": "ErxwrQF7duYG"
      },
      "execution_count": null,
      "outputs": []
    },
    {
      "cell_type": "code",
      "source": [
        "def isSubsequence(self, s, t):\n",
        "    remainder_of_t = iter(t)\n",
        "    for letter in s:\n",
        "        if letter not in remainder_of_t:\n",
        "            return False\n",
        "    return True"
      ],
      "metadata": {
        "id": "maPeam1daZ-N"
      },
      "execution_count": null,
      "outputs": []
    },
    {
      "cell_type": "markdown",
      "source": [
        "Easier but the same idea"
      ],
      "metadata": {
        "id": "EZsji_SMfZXz"
      }
    },
    {
      "cell_type": "code",
      "source": [
        "def isSubsequence(self, s, t):\n",
        "    for c in s:\n",
        "        i = t.find(c)\n",
        "        if i == -1:\n",
        "            return False\n",
        "        else:\n",
        "            t = t[i+1:]\n",
        "    return True"
      ],
      "metadata": {
        "id": "50PQvVVDfZcK"
      },
      "execution_count": null,
      "outputs": []
    },
    {
      "cell_type": "markdown",
      "source": [
        "#509.Fibonacci Number (Done / By myself)"
      ],
      "metadata": {
        "id": "B6T_hBmTL_H2"
      }
    },
    {
      "cell_type": "markdown",
      "source": [
        "10 / 10 (Recursive function)"
      ],
      "metadata": {
        "id": "4UlqmcaHPn8z"
      }
    },
    {
      "cell_type": "code",
      "source": [
        "class Solution(object):\n",
        "    def fib(self, n):\n",
        "        \"\"\"\n",
        "        :type n: int\n",
        "        :rtype: int\n",
        "        \"\"\"\n",
        "        if n == 0:\n",
        "            return 0\n",
        "        if n == 1:\n",
        "            return 1\n",
        "\n",
        "        return self.fib(n - 1) + self.fib(n - 2)"
      ],
      "metadata": {
        "id": "0XsgvFRsL_OP"
      },
      "execution_count": null,
      "outputs": []
    },
    {
      "cell_type": "markdown",
      "source": [
        "(Dynamic Programming)"
      ],
      "metadata": {
        "id": "gfgqwXAZPuef"
      }
    },
    {
      "cell_type": "markdown",
      "source": [
        "99 / 12"
      ],
      "metadata": {
        "id": "pPwYPVaAR656"
      }
    },
    {
      "cell_type": "code",
      "source": [
        "class Solution(object):\n",
        "    def fib(self, n):\n",
        "        \"\"\"\n",
        "        :type n: int\n",
        "        :rtype: int\n",
        "        \"\"\"\n",
        "        arr = [0, 1]\n",
        "\n",
        "        if n == 0:\n",
        "          return 0\n",
        "        if n == 1:\n",
        "          return 1\n",
        "\n",
        "        while n > 1:\n",
        "            arr[0], arr[1] = arr[1], arr[0] + arr[1]\n",
        "            n -= 1\n",
        "        return arr[1]\n",
        "        "
      ],
      "metadata": {
        "id": "b970DdX2RoDg"
      },
      "execution_count": null,
      "outputs": []
    },
    {
      "cell_type": "code",
      "source": [
        "ans = Solution()\n",
        "print(ans.fib(6))"
      ],
      "metadata": {
        "colab": {
          "base_uri": "https://localhost:8080/"
        },
        "id": "X8sIgT0yOzt1",
        "outputId": "aa4d4abe-f26f-40d8-dd35-666619e23338"
      },
      "execution_count": null,
      "outputs": [
        {
          "output_type": "stream",
          "name": "stdout",
          "text": [
            "8\n"
          ]
        }
      ]
    },
    {
      "cell_type": "code",
      "source": [
        ""
      ],
      "metadata": {
        "id": "u5KobB3QMEPM"
      },
      "execution_count": null,
      "outputs": []
    },
    {
      "cell_type": "markdown",
      "source": [
        "def fib(N):\n",
        "\tif N == 0: return 0\n",
        "\tmemo = [0,1]\n",
        "\tfor _ in range(2,N+1):\n",
        "\t\tmemo = [memo[-1], memo[-1] + memo[-2]]\n",
        "\n",
        "\treturn memo[-1]\n",
        "can use a tuple for better performance\n",
        "\n",
        "def fib(N):\n",
        "\tif N == 0: return 0\n",
        "\tmemo = (0,1)\n",
        "\tfor _ in range(2,N+1):\n",
        "\t\tmemo = (memo[-1], memo[-1] + memo[-2])\n",
        "\n",
        "\treturn memo[-1]"
      ],
      "metadata": {
        "id": "ZXyuuG1uSLgT"
      }
    },
    {
      "cell_type": "markdown",
      "source": [
        "# 557.Reverse Words in a String III (Done / By myself)"
      ],
      "metadata": {
        "id": "mS9wAsnemhuT"
      }
    },
    {
      "cell_type": "markdown",
      "source": [
        "60 / 65"
      ],
      "metadata": {
        "id": "Bi30wb4pn4bP"
      }
    },
    {
      "cell_type": "code",
      "source": [
        "class Solution(object):\n",
        "    def reverseWords(self, s):\n",
        "        \"\"\"\n",
        "        :type s: str\n",
        "        :rtype: str\n",
        "        \"\"\"\n",
        "        \n",
        "        return (\" \").join(list(map(lambda x : x[::-1], s.split(\" \"))))"
      ],
      "metadata": {
        "id": "2-vhARmNnlrW"
      },
      "execution_count": null,
      "outputs": []
    },
    {
      "cell_type": "code",
      "source": [
        "s = \"Let's take LeetCode contest\"\n",
        "\n",
        "ans = Solution()\n",
        "print(ans.reverseWords(s))"
      ],
      "metadata": {
        "id": "Sunqcco27Zbn",
        "colab": {
          "base_uri": "https://localhost:8080/"
        },
        "outputId": "cf6cada6-5cbc-4abf-bb0c-a1b1ce81f4bd"
      },
      "execution_count": null,
      "outputs": [
        {
          "output_type": "stream",
          "name": "stdout",
          "text": [
            "s'teL ekat edoCteeL tsetnoc\n"
          ]
        }
      ]
    },
    {
      "cell_type": "markdown",
      "source": [
        "# 733.Flood Fill (Done / By myself but Referred to 200. DFS Code)"
      ],
      "metadata": {
        "id": "lr81NsJwIS37"
      }
    },
    {
      "cell_type": "markdown",
      "source": [
        "74 / 59"
      ],
      "metadata": {
        "id": "vOTFqe2Bg8hh"
      }
    },
    {
      "cell_type": "code",
      "source": [
        "class Solution(object):\n",
        "    def floodFill(self, image, sr, sc, color):\n",
        "        \"\"\"\n",
        "        :type image: List[List[int]]\n",
        "        :type sr: int\n",
        "        :type sc: int\n",
        "        :type color: int\n",
        "        :rtype: List[List[int]]\n",
        "        \"\"\"\n",
        "        self.image = image\n",
        "        self.src = image[sr][sc]\n",
        "        self.n = len(image[0]) \n",
        "        self.m = len(image)  \n",
        "        self.color = color\n",
        "        self.visited = [[\"X\" for i in range(self.n)] for j in range(self.m)]\n",
        "\n",
        "        self.DFS(sr, sc)\n",
        "        return self.image\n",
        "\n",
        "    def DFS(self, i, j):\n",
        "      \n",
        "      if i<0 or j<0 or i > self.m - 1 or j > self.n - 1 or self.image[i][j] != self.src or self.visited[i][j] == \"O\":\n",
        "       return\n",
        "\n",
        "      print(f\"I'm coloring the image[{i}][{j}] into {self.color}\")\n",
        "      \n",
        "      self.image[i][j] = self.color\n",
        "      self.visited[i][j] = 'O'\n",
        "      \n",
        "      self.DFS(i - 1, j)\n",
        "      self.DFS(i + 1, j)\n",
        "      self.DFS(i, j - 1)\n",
        "      self.DFS(i, j + 1)\n",
        "        "
      ],
      "metadata": {
        "id": "xFqSHRR7fHjn"
      },
      "execution_count": null,
      "outputs": []
    },
    {
      "cell_type": "code",
      "source": [
        "image = [[0,0,0],[0,0,0]]\n",
        "sr = 0\n",
        "sc = 0\n",
        "color = 0"
      ],
      "metadata": {
        "id": "i2-3Qf60Zwng"
      },
      "execution_count": null,
      "outputs": []
    },
    {
      "cell_type": "code",
      "source": [
        "ans = Solution().floodFill(image, sr, sc, color)"
      ],
      "metadata": {
        "colab": {
          "base_uri": "https://localhost:8080/"
        },
        "id": "Lv0CdRgIaW_x",
        "outputId": "65193b72-0072-4f76-bdb4-a2a1c81cdaa4"
      },
      "execution_count": null,
      "outputs": [
        {
          "output_type": "stream",
          "name": "stdout",
          "text": [
            "I'm coloring the image[0][0] into 0\n",
            "I'm coloring the image[1][0] into 0\n",
            "I'm coloring the image[1][1] into 0\n",
            "I'm coloring the image[0][1] into 0\n",
            "I'm coloring the image[0][2] into 0\n",
            "I'm coloring the image[1][2] into 0\n"
          ]
        }
      ]
    },
    {
      "cell_type": "code",
      "source": [
        "ans"
      ],
      "metadata": {
        "colab": {
          "base_uri": "https://localhost:8080/"
        },
        "id": "ojm5h_SKaA4S",
        "outputId": "da274ddc-b1bf-4e46-c526-044a74df779c"
      },
      "execution_count": null,
      "outputs": [
        {
          "output_type": "execute_result",
          "data": {
            "text/plain": [
              "[[0, 0, 0], [0, 0, 0]]"
            ]
          },
          "metadata": {},
          "execution_count": 61
        }
      ]
    },
    {
      "cell_type": "code",
      "source": [
        ""
      ],
      "metadata": {
        "id": "pZz0NPz9aA6J"
      },
      "execution_count": null,
      "outputs": []
    },
    {
      "cell_type": "code",
      "source": [
        ""
      ],
      "metadata": {
        "id": "xrhgUP_7ffQm"
      },
      "execution_count": null,
      "outputs": []
    },
    {
      "cell_type": "code",
      "source": [
        ""
      ],
      "metadata": {
        "id": "Qcp3ei8IffS8"
      },
      "execution_count": null,
      "outputs": []
    },
    {
      "cell_type": "code",
      "source": [
        ""
      ],
      "metadata": {
        "id": "hUBkH5D_ffVE"
      },
      "execution_count": null,
      "outputs": []
    },
    {
      "cell_type": "code",
      "source": [
        ""
      ],
      "metadata": {
        "id": "nTw9MmlMffXq"
      },
      "execution_count": null,
      "outputs": []
    },
    {
      "cell_type": "code",
      "source": [
        ""
      ],
      "metadata": {
        "id": "R7e6fjwwffZw"
      },
      "execution_count": null,
      "outputs": []
    },
    {
      "cell_type": "code",
      "source": [
        ""
      ],
      "metadata": {
        "id": "thc3h442ffb5"
      },
      "execution_count": null,
      "outputs": []
    },
    {
      "cell_type": "code",
      "source": [
        ""
      ],
      "metadata": {
        "id": "bjZZxFh4ffd_"
      },
      "execution_count": null,
      "outputs": []
    },
    {
      "cell_type": "code",
      "source": [
        ""
      ],
      "metadata": {
        "id": "BgYhU2UwffgY"
      },
      "execution_count": null,
      "outputs": []
    },
    {
      "cell_type": "code",
      "source": [
        ""
      ],
      "metadata": {
        "id": "3RjMKEC1ffix"
      },
      "execution_count": null,
      "outputs": []
    },
    {
      "cell_type": "code",
      "source": [
        ""
      ],
      "metadata": {
        "id": "aNO0xxNsfflL"
      },
      "execution_count": null,
      "outputs": []
    },
    {
      "cell_type": "code",
      "source": [
        ""
      ],
      "metadata": {
        "id": "Czw3bFNaffnX"
      },
      "execution_count": null,
      "outputs": []
    },
    {
      "cell_type": "code",
      "source": [
        ""
      ],
      "metadata": {
        "id": "1AoZxLF4ffp1"
      },
      "execution_count": null,
      "outputs": []
    },
    {
      "cell_type": "code",
      "source": [
        ""
      ],
      "metadata": {
        "id": "GBSKqzY4ffr0"
      },
      "execution_count": null,
      "outputs": []
    },
    {
      "cell_type": "markdown",
      "source": [
        "completely work"
      ],
      "metadata": {
        "id": "QsN9l4GHfgXe"
      }
    },
    {
      "cell_type": "code",
      "source": [
        "class Solution(object):\n",
        "    def floodFill(self, image, sr, sc, color):\n",
        "        \"\"\"\n",
        "        :type image: List[List[int]]\n",
        "        :type sr: int\n",
        "        :type sc: int\n",
        "        :type color: int\n",
        "        :rtype: List[List[int]]\n",
        "        \"\"\"\n",
        "        self.image = image\n",
        "        #self.sr = sr\n",
        "        #self.sc = sc\n",
        "        self.src = image[sr][sc]\n",
        "        self.n = len(image[0]) \n",
        "        self.m = len(image)  \n",
        "        self.color = color\n",
        "\n",
        "        self.DFS(sr, sc)\n",
        "        return self.image\n",
        "\n",
        "    def DFS(self, i, j):\n",
        "      \n",
        "      if i<0 or j<0 or i > self.m - 1 or j > self.n - 1:\n",
        "        return # do nothing\n",
        "      else:\n",
        "        print(f\"i : {i}, j : {j}\")\n",
        "        if self.image[i][j] != self.src:\n",
        "          return # do nothing - separated from the condition above since i, j can be both -1 but negative indices are impossible\n",
        "\n",
        "      print(f\"I'm coloring the image[{i}][{j}] into {self.color}\")\n",
        "      self.image[i][j] = self.color\n",
        "\n",
        "      self.DFS(i - 1, j)\n",
        "      self.DFS(i + 1, j)\n",
        "      self.DFS(i, j - 1)\n",
        "      self.DFS(i, j + 1)\n",
        "        "
      ],
      "metadata": {
        "id": "4T0BdgkMffue"
      },
      "execution_count": null,
      "outputs": []
    },
    {
      "cell_type": "markdown",
      "source": [
        "# 876.Middle of the Linked List (Done / By myself)"
      ],
      "metadata": {
        "id": "jCCT59Ysx_9q"
      }
    },
    {
      "cell_type": "markdown",
      "source": [
        "48, 77"
      ],
      "metadata": {
        "id": "6OEbPtlv29l7"
      }
    },
    {
      "cell_type": "code",
      "source": [
        "# Definition for singly-linked list.\n",
        "# class ListNode(object):\n",
        "#     def __init__(self, val=0, next=None):\n",
        "#         self.val = val\n",
        "#         self.next = next\n",
        "class ListNode(object):\n",
        "    def __init__(self, val=0, next=None):\n",
        "        self.val = val\n",
        "        self.next = next\n",
        "\n",
        "class Solution(object):\n",
        "    def middleNode(self, head):\n",
        "        \"\"\"\n",
        "        :type head: ListNode\n",
        "        :rtype: ListNode\n",
        "        \"\"\"\n",
        "\n",
        "        cnt = 1\n",
        "        cur, dummy = head, head\n",
        "        while True:\n",
        "          \n",
        "          cur = cur.next\n",
        "          if cur == None:\n",
        "            break\n",
        "          cnt += 1\n",
        "\n",
        "        cnt = cnt // 2\n",
        "\n",
        "        while True:\n",
        "\n",
        "            if cnt == 0:\n",
        "              break\n",
        "            dummy = dummy.next\n",
        "            cnt -= 1\n",
        "        return dummy\n",
        "        "
      ],
      "metadata": {
        "id": "jBeobJOWyACJ"
      },
      "execution_count": null,
      "outputs": []
    },
    {
      "cell_type": "markdown",
      "source": [
        "Test case 1"
      ],
      "metadata": {
        "id": "pQowjvWf3BSh"
      }
    },
    {
      "cell_type": "code",
      "source": [
        "head = ListNode(1)"
      ],
      "metadata": {
        "id": "Bg6tEorB0MWQ"
      },
      "execution_count": null,
      "outputs": []
    },
    {
      "cell_type": "markdown",
      "source": [
        "Test case 2"
      ],
      "metadata": {
        "id": "xpY3Atwj3Crb"
      }
    },
    {
      "cell_type": "code",
      "source": [
        "head = ListNode(1)"
      ],
      "metadata": {
        "id": "gVncNtM1yD8B"
      },
      "execution_count": null,
      "outputs": []
    },
    {
      "cell_type": "code",
      "source": [
        "head.next = ListNode(2)"
      ],
      "metadata": {
        "id": "s2v-7qw4ykg8"
      },
      "execution_count": null,
      "outputs": []
    },
    {
      "cell_type": "code",
      "source": [
        "head.next.next = ListNode(3)"
      ],
      "metadata": {
        "id": "_zj5tP0-ykjP"
      },
      "execution_count": null,
      "outputs": []
    },
    {
      "cell_type": "code",
      "source": [
        "head.next.next.next = ListNode(4)"
      ],
      "metadata": {
        "id": "6DpqWLQhyklU"
      },
      "execution_count": null,
      "outputs": []
    },
    {
      "cell_type": "code",
      "source": [
        "head.next.next.next.next = ListNode(5)"
      ],
      "metadata": {
        "id": "6_e8fOvpykn7"
      },
      "execution_count": null,
      "outputs": []
    },
    {
      "cell_type": "markdown",
      "source": [
        "# 1137.N-th Tribonacci Number (Done / By myself + leetcode solutions)"
      ],
      "metadata": {
        "id": "xFqkoafsVveU"
      }
    },
    {
      "cell_type": "markdown",
      "source": [
        "15 / 84"
      ],
      "metadata": {
        "id": "JSg9R12bYBWp"
      }
    },
    {
      "cell_type": "code",
      "source": [
        "class Solution(object):\n",
        "    def tribonacci(self, n):\n",
        "        \"\"\"\n",
        "        :type n: int\n",
        "        :rtype: int\n",
        "        \"\"\"\n",
        "        arr = [0, 1, 1]\n",
        "        \n",
        "        if n <= 2:\n",
        "          return arr[n]\n",
        "        \n",
        "        while n!=2:\n",
        "          arr = [arr[1], arr[2], arr[0] + arr[1] + arr[2]]\n",
        "          n -= 1\n",
        "          \n",
        "        return arr[2]"
      ],
      "metadata": {
        "id": "b1WPkCPvVy_b"
      },
      "execution_count": null,
      "outputs": []
    },
    {
      "cell_type": "markdown",
      "source": [
        "57 / 61 ( [from one of leetcode solutions](https://leetcode.com/problems/n-th-tribonacci-number/discuss/1482837/Python-2-solutions%3A-dp-and-matrix-power-explained))"
      ],
      "metadata": {
        "id": "8k1MkII5YchU"
      }
    },
    {
      "cell_type": "code",
      "source": [
        "class Solution:\n",
        "    def tribonacci(self, n):\n",
        "        a, b, c = 1, 0, 0\n",
        "        for _ in range(n):\n",
        "            a, b, c = b, c, a + b + c\n",
        "            \n",
        "        return c"
      ],
      "metadata": {
        "id": "WSWkELTAYcpG"
      },
      "execution_count": null,
      "outputs": []
    },
    {
      "cell_type": "markdown",
      "source": [
        "5 / 11 ( [from one of leetcode solutions](https://leetcode.com/problems/n-th-tribonacci-number/discuss/1482837/Python-2-solutions%3A-dp-and-matrix-power-explained)) / efficient with the bigger n"
      ],
      "metadata": {
        "id": "EbsDxLOIYekL"
      }
    },
    {
      "cell_type": "code",
      "source": [
        "import numpy as np\n",
        "\n",
        "class Solution:\n",
        "    def tribonacci(self, n):\n",
        "        def power(M, n, MOD):\n",
        "            result = np.eye(len(M), dtype = np.int64)\n",
        "            while n > 0:\n",
        "                if n%2: result = np.dot(M, result) % MOD\n",
        "                M = np.dot(M, M) % MOD\n",
        "                n //= 2\n",
        "            return result\n",
        "        \n",
        "        t = power(np.array([[1,1,1],[1,0,0],[0,1,0]]), n, 1<<32)\n",
        "        return t[0][-1]"
      ],
      "metadata": {
        "id": "xS8mBRBGYepP"
      },
      "execution_count": null,
      "outputs": []
    },
    {
      "cell_type": "code",
      "source": [
        "n = 25\n",
        "\n",
        "print(Solution().tribonacci(n))"
      ],
      "metadata": {
        "colab": {
          "base_uri": "https://localhost:8080/"
        },
        "id": "3MNRw5XdVzES",
        "outputId": "fde4e0c6-dd2b-4149-bc1a-6b49fc8bf7c3"
      },
      "execution_count": null,
      "outputs": [
        {
          "output_type": "stream",
          "name": "stdout",
          "text": [
            "1389537\n"
          ]
        }
      ]
    },
    {
      "cell_type": "code",
      "source": [
        ""
      ],
      "metadata": {
        "id": "LrwVPLG4VzGo"
      },
      "execution_count": null,
      "outputs": []
    },
    {
      "cell_type": "code",
      "source": [
        ""
      ],
      "metadata": {
        "id": "fzdtkZP_VvjU"
      },
      "execution_count": null,
      "outputs": []
    },
    {
      "cell_type": "markdown",
      "source": [
        "# ★ Algorithms"
      ],
      "metadata": {
        "id": "UVXCCDTRqiJv"
      }
    },
    {
      "cell_type": "code",
      "source": [
        "class Solution(object):\n",
        "    def isHappy(self, n):\n",
        "        \"\"\"\n",
        "        :type n: int\n",
        "        :rtype: bool\n",
        "        \"\"\"\n",
        "        "
      ],
      "metadata": {
        "id": "Kaf_n71ihB95"
      },
      "execution_count": null,
      "outputs": []
    },
    {
      "cell_type": "markdown",
      "source": [
        "Kadane, merge sort, quick sort, KMP, linked list, BFS, DFS, Heap(Binary Tree), Kosaraju's algorithm, Dijkstra's algorithm"
      ],
      "metadata": {
        "id": "EFiui-91qlY1"
      }
    },
    {
      "cell_type": "markdown",
      "source": [
        "Binary Tree, BFS, DFS, Floyd Warshall, bellman ford"
      ],
      "metadata": {
        "id": "cNJEyCqiqla4"
      }
    },
    {
      "cell_type": "markdown",
      "source": [
        "[Dijkstra vs. Floyd Warshall vs. Bellman Ford](https://velog.io/@chosh/%EB%8B%A4%EC%9D%B5%EC%8A%A4%ED%8A%B8%EB%9D%BC-vs-%EB%B2%A8%EB%A7%88%ED%8F%AC%EB%93%9C-vs-%ED%94%8C%EB%A1%9C%EC%9D%B4%EB%93%9C-%EC%9B%8C%EC%85%9C)"
      ],
      "metadata": {
        "id": "CARet5XAqzrE"
      }
    },
    {
      "cell_type": "code",
      "source": [
        "def BFS() :"
      ],
      "metadata": {
        "id": "Sex7dr_wrxbN"
      },
      "execution_count": null,
      "outputs": []
    },
    {
      "cell_type": "code",
      "source": [
        "def DFS(graph, v, visited) :\n",
        "  visited[v] = True\n",
        "  print(v, end = '')\n",
        "\n",
        "  for i in graph[v]:\n",
        "    if not visited[i]:\n",
        "      dfs(graph, i, visited) "
      ],
      "metadata": {
        "id": "DPdortqH05jK"
      },
      "execution_count": null,
      "outputs": []
    },
    {
      "cell_type": "markdown",
      "source": [
        "Dijkstra"
      ],
      "metadata": {
        "id": "6JOIdJOkbFdd"
      }
    },
    {
      "cell_type": "code",
      "source": [
        "from google.colab import drive\n",
        "import heapq\n",
        "\n",
        "drive.mount(\"/content/gdrive\")\n",
        "with open('/content/gdrive/My Drive/Colab Notebooks/Coursera/Algorithm_Specialization/Chapter2/dijkstraData.txt', 'r') as f:\n",
        "    tmps = f.readlines()\n",
        "\n",
        "# Construct the graph and distance info. array for each vertex\n",
        "INF = int(1e9)\n",
        "dist_array = [INF for i in range(201)]\n",
        "graph = [ [] for i in range(201)]\n",
        "srcVtx = 1\n",
        "\n",
        "for i in range(1, 201):\n",
        "  tmp = tmps[i-1].split('\\t')\n",
        "  for string in tmp[1:len(tmp)-1]:\n",
        "    graph[i].append(tuple(map(int, string.split(','))))\n",
        "\n",
        "# graph[1][:5] : [(80, 982), (163, 8164), (170, 2620), (145, 648), (200, 8021)]\n",
        "\n",
        "def dijkstra(G, srcVtx):\n",
        "  heap = []\n",
        "  heapq.heappush(heap, (0, srcVtx)) # (weight, vertex label) form\n",
        "  dist_array[srcVtx] = 0 # Refresh the dist_array\n",
        "\n",
        "  while heap: # Till the heap becomes empty\n",
        "   \n",
        "   dist, vtx = heapq.heappop(heap) # Pop the root node -> (the smallest distance, it's vertex label)\n",
        "   \n",
        "   for i in G[vtx]:    # Find all the adjacent nodes with 'vtx', current space\n",
        "                       # Note that data in the graph has the form of (vtx, weight) unlike heap\n",
        "    cost = dist + i[1] \n",
        "    \n",
        "    # ↓Check whether cost is smaller than dist_array or not - to refresh or not?↓\n",
        "    if cost < dist_array[i[0]]: # cost : current cost to get to i[0] / dist_array : containing the minimum distances so far\n",
        "      \n",
        "      dist_array[i[0]] = cost\n",
        "      heapq.heappush(heap, (cost, i[0]))\n",
        "  \n",
        "dijkstra(graph, srcVtx)\n",
        "\n",
        "for i in [7,37,59,82,99,115,133,165,188,197]:\n",
        "  print(dist_array[i], end=',')"
      ],
      "metadata": {
        "id": "soaBLYD8uo3O",
        "colab": {
          "base_uri": "https://localhost:8080/"
        },
        "outputId": "bf03ebd1-d135-4fa4-9b23-9db56dedfef7"
      },
      "execution_count": null,
      "outputs": [
        {
          "output_type": "stream",
          "name": "stdout",
          "text": [
            "Mounted at /content/gdrive\n",
            "2599,2610,2947,2052,2367,2399,2029,2442,2505,3068,"
          ]
        }
      ]
    },
    {
      "cell_type": "code",
      "source": [
        ""
      ],
      "metadata": {
        "id": "WzDTa_0eedbm"
      },
      "execution_count": null,
      "outputs": []
    }
  ]
}